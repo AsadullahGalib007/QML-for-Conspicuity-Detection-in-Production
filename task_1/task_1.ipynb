{
  "cells": [
    {
      "cell_type": "markdown",
      "metadata": {
        "id": "uZHQlnRigO_x"
      },
      "source": [
        "This notebook contains coding practice from the Pennylane Codebook. The challenges [Introduction to Quantum Computing](https://pennylane.ai/codebook/#01-introduction-to-quantum-computing), [Single-Qubit Gates](https://pennylane.ai/codebook/#02-single-qubit-gates), and [Circuits with Many Qubits](https://pennylane.ai/codebook/#03-circuits-many-qubits) were completed there. Some modifications has been made and copy-pasted the codes here to showcase the fulfilment of task-1 of the project."
      ]
    },
    {
      "cell_type": "markdown",
      "metadata": {
        "id": "o-tFlA_TaWJm"
      },
      "source": [
        "# Table of Contents:\n",
        "\n",
        ">[Introduction to Quantum Computing](#scrollTo=xbZGcHniHGYN)\n",
        "\n",
        ">>[All About Qubits](#scrollTo=NBrDbZCdHNgH)\n",
        "\n",
        ">>>[I.1.1 - Norm. of q. states](#scrollTo=uHDRRT9mIJjZ)\n",
        "\n",
        ">>>[I.1.2 - Inner product and orthonormal bases](#scrollTo=eGm30yEjIOiI)\n",
        "\n",
        ">>>[I.1.3 -- Sampling measurement outcomes](#scrollTo=MZu-mBviIjJd)\n",
        "\n",
        ">>>[I.1.4 - Applying a quantum operation](#scrollTo=vdr7KsYXKyxB)\n",
        "\n",
        ">>>[I.1.5 - A simple quantum algorithm](#scrollTo=LCopol7uLKLj)\n",
        "\n",
        ">>[Quantum Circuits](#scrollTo=NheM9nCJLoKG)\n",
        "\n",
        ">>>[I.2.1 - Order of operations](#scrollTo=gMwhD_9eLtUT)\n",
        "\n",
        ">>>[I.2.2 - Building a QNode](#scrollTo=n-gdDRqCMatt)\n",
        "\n",
        ">>>[I.2.3 - The Qnode decorator](#scrollTo=iC0sRL0rMn6w)\n",
        "\n",
        ">>>[I.2.4 - Circuit depth](#scrollTo=eYJBwatPM1ji)\n",
        "\n",
        ">>[Unitary Matrices](#scrollTo=hyVy_b4RNBbs)\n",
        "\n",
        ">>>[I.3.1 - Unitaries in Pennylane](#scrollTo=B8O-YtpLNK3t)\n",
        "\n",
        ">>>[I.3.2 - Parameterized unitaries](#scrollTo=tIPL05CINd3w)\n",
        "\n",
        ">[Single Qubit Gates](#scrollTo=AFtxwaexN8KA)\n",
        "\n",
        ">>[X and H](#scrollTo=ratpQfB5OCXB)\n",
        "\n",
        ">>>[I.4.1 - Flipping bits](#scrollTo=I_WLhhcbOLVB)\n",
        "\n",
        ">>>[I.4.2 - Uniform superposition](#scrollTo=Pwm0dxQPOhCw)\n",
        "\n",
        ">>>[I.4.3 - Combining X and H](#scrollTo=0_3GhztQOv0K)\n",
        "\n",
        ">>>[I.4.4 - A QNode with X and H](#scrollTo=9eWWyzEhPA4e)\n",
        "\n",
        ">>[It's just a phase](#scrollTo=o33lYASEPKxY)\n",
        "\n",
        ">>>[I.5.1 - The Pauli Z gate](#scrollTo=vsF5tLShPSHG)\n",
        "\n",
        ">>>[I.5.2 - The Z rotation](#scrollTo=V3e426hnPZYg)\n",
        "\n",
        ">>>[I.5.3 -  The S and T gates](#scrollTo=hOiaLnpdPnco)\n",
        "\n",
        ">>[From a different Angle](#scrollTo=X0OmGrHzP2pk)\n",
        "\n",
        ">>>[I.6.1 - Applying RX](#scrollTo=pxSF6OxCP-Y6)\n",
        "\n",
        ">>>[I.6.2 - Plotting RX](#scrollTo=hC-BmUGbQGQz)\n",
        "\n",
        ">>>[I.6.3 - Plotting RY](#scrollTo=4B2JVJMlRZkV)\n",
        "\n",
        ">>[Universal Gate Sets](#scrollTo=p_rrc2VmS51H)\n",
        "\n",
        ">>>[I.7.1 - Universality of rotations](#scrollTo=-CWvJysLiUT6)\n",
        "\n",
        ">>>[I.7.2 - Synthesizing a circuit](#scrollTo=qcc04YnSoMGJ)\n",
        "\n",
        ">>>[I.7.3 - Universality of H and T](#scrollTo=4JZ7ixk_6jFn)\n",
        "\n",
        ">>[Prepare Yourself](#scrollTo=O6EJ6CxfGPFD)\n",
        "\n",
        ">>>[I.8.1 - State preparation](#scrollTo=Obo8LehXGRIQ)\n",
        "\n",
        ">>>[I.8.2 - State preparation re.](#scrollTo=V9Qx-EEbK5MM)\n",
        "\n",
        ">>>[I.8.3 - State preparation with Mottonen's method](#scrollTo=2-DA1RZALlkW)\n",
        "\n",
        ">>[Measurements](#scrollTo=0oSCIO8SS93H)\n",
        "\n",
        ">>>[I.9.1 - Measuring a superposition](#scrollTo=BclsuelxTOOo)\n",
        "\n",
        ">>>[I.9.2 - Y basis rotation](#scrollTo=5K-DAKSoT3Kg)\n",
        "\n",
        ">>>[I.9.3 - Measurement in the Y basis](#scrollTo=NmFcKG5ztYkv)\n",
        "\n",
        ">>[What Did You Expect?](#scrollTo=8xoJeGWeLstk)\n",
        "\n",
        ">>>[I.10.1 - Measurement of the PauliY Observable](#scrollTo=QBjI_EggLwan)\n",
        "\n",
        ">>>[I.10.2 - Setting up the number of experiment shots](#scrollTo=NeBtLCOvMujj)\n",
        "\n",
        ">>>[I.10.3 - Evaluating the samples](#scrollTo=KD-nZW5gPEZD)\n",
        "\n",
        ">>>[I.10.4 - The variance of sample measurements](#scrollTo=-c9igJOFQAmt)\n",
        "\n",
        ">[Circuits with Many Qubits](#scrollTo=mDSbW9eOV7DC)\n",
        "\n",
        ">>[Multi-Qubit Systems](#scrollTo=ARdPbahQxZyD)\n",
        "\n",
        ">>>[I.11.1 - Preparing basis state](#scrollTo=2oVDXgsgxU4K)\n",
        "\n",
        ">>>[I.11.2 - Separable Operations](#scrollTo=J--nIggbzHp1)\n",
        "\n",
        ">>>[I.11.3 - Expectation value of the two qubit observable](#scrollTo=BonShrq41gHx)\n",
        "\n",
        ">>>[I.11.4 - Double Trouble](#scrollTo=aBe43fgP1zM_)\n",
        "\n",
        ">>[All Tied Up](#scrollTo=w0NVUPFb4Qe8)\n",
        "\n",
        ">>>[I.12.1 - Entangling Operations](#scrollTo=oB_3UcrR5FMh)\n",
        "\n",
        ">>>[I.12.2 - Separable or entangled](#scrollTo=0K6VULka5VvP)\n",
        "\n",
        ">>>[I.12.3 - Controlled rotations](#scrollTo=8o4K9CNd6IIo)\n",
        "\n",
        ">>[We've Got It Under Control](#scrollTo=ht2s2gW-7EbZ)\n",
        "\n",
        ">>>[I13.1 - The Imposter CZ](#scrollTo=cmo-s3Vc7Hlu)\n",
        "\n",
        ">>>[I.13.2 - The Swap Gate](#scrollTo=jPwmm8YS9OFt)\n",
        "\n",
        ">>>[I.13.3 - The toffoli gate](#scrollTo=l9lNssnm9cJu)\n",
        "\n",
        ">>>[I.13.4 - Mixed Controlled Gates](#scrollTo=mRb3HPKhALp4)\n",
        "\n",
        ">>>[I.13.5 - The three controlled not](#scrollTo=vtrmtUW1DsTT)\n",
        "\n",
        ">>[Multi-Qubit Gate Challenge](#scrollTo=L9b3pGL2Jigp)\n",
        "\n",
        ">>>[I.14.1 - The Bell states](#scrollTo=k2fZ2wdVJk3r)\n",
        "\n",
        ">>>[I.14.2 - Quantum Multiplexer](#scrollTo=tiQXu8TJL7HZ)"
      ]
    },
    {
      "cell_type": "markdown",
      "metadata": {
        "id": "xbZGcHniHGYN"
      },
      "source": [
        "# Introduction to Quantum Computing"
      ]
    },
    {
      "cell_type": "markdown",
      "metadata": {
        "id": "DV4ZstxcVYfM"
      },
      "source": [
        "<a href=\"https://ibb.co/rbGtRhz\"><img src=\"https://i.ibb.co/vsxB6WT/2024-07-15-22-57.png\" alt=\"2024-07-15-22-57\" border=\"0\"></a>"
      ]
    },
    {
      "cell_type": "markdown",
      "metadata": {
        "id": "NBrDbZCdHNgH"
      },
      "source": [
        "## 1. All About Qubits"
      ]
    },
    {
      "cell_type": "code",
      "execution_count": null,
      "metadata": {
        "colab": {
          "base_uri": "https://localhost:8080/"
        },
        "id": "8Yko5cdIHitb",
        "outputId": "2feff5fc-c069-48ba-ecc8-4f7bccf95e5a"
      },
      "outputs": [
        {
          "name": "stdout",
          "output_type": "stream",
          "text": [
            "\u001b[2K   \u001b[90m━━━━━━━━━━━━━━━━━━━━━━━━━━━━━━━━━━━━━━━━\u001b[0m \u001b[32m1.8/1.8 MB\u001b[0m \u001b[31m6.8 MB/s\u001b[0m eta \u001b[36m0:00:00\u001b[0m\n",
            "\u001b[2K   \u001b[90m━━━━━━━━━━━━━━━━━━━━━━━━━━━━━━━━━━━━━━━━\u001b[0m \u001b[32m51.0/51.0 kB\u001b[0m \u001b[31m2.0 MB/s\u001b[0m eta \u001b[36m0:00:00\u001b[0m\n",
            "\u001b[2K   \u001b[90m━━━━━━━━━━━━━━━━━━━━━━━━━━━━━━━━━━━━━━━━\u001b[0m \u001b[32m15.5/15.5 MB\u001b[0m \u001b[31m27.4 MB/s\u001b[0m eta \u001b[36m0:00:00\u001b[0m\n",
            "\u001b[2K   \u001b[90m━━━━━━━━━━━━━━━━━━━━━━━━━━━━━━━━━━━━━━━━\u001b[0m \u001b[32m2.0/2.0 MB\u001b[0m \u001b[31m25.2 MB/s\u001b[0m eta \u001b[36m0:00:00\u001b[0m\n",
            "\u001b[?25h"
          ]
        }
      ],
      "source": [
        "!pip install pennylane -q"
      ]
    },
    {
      "cell_type": "code",
      "execution_count": null,
      "metadata": {
        "id": "quWuKx1QHxZR"
      },
      "outputs": [],
      "source": [
        "from pennylane import numpy as np\n",
        "import pennylane as qml"
      ]
    },
    {
      "cell_type": "markdown",
      "metadata": {
        "id": "uHDRRT9mIJjZ"
      },
      "source": [
        "###  I.1.1 - Norm. of q. states"
      ]
    },
    {
      "cell_type": "code",
      "execution_count": null,
      "metadata": {
        "colab": {
          "base_uri": "https://localhost:8080/"
        },
        "id": "QvEzOr9QGquY",
        "outputId": "2bf67d34-b6a6-4d5a-c429-ea65944520d5"
      },
      "outputs": [
        {
          "name": "stdout",
          "output_type": "stream",
          "text": [
            "[0.23570226+0.47140452j 0.47140452+0.70710678j]\n"
          ]
        }
      ],
      "source": [
        "# Here are the vector representations of |0> and |1>, for convenience\n",
        "ket_0 = np.array([1, 0])\n",
        "ket_1 = np.array([0, 1])\n",
        "\n",
        "\n",
        "def normalize_state(alpha, beta):\n",
        "    \"\"\"Compute a normalized quantum state given arbitrary amplitudes.\n",
        "\n",
        "    Args:\n",
        "        alpha (complex): The amplitude associated with the |0> state.\n",
        "        beta (complex): The amplitude associated with the |1> state.\n",
        "\n",
        "    Returns:\n",
        "        np.array[complex]: A vector (numpy array) with 2 elements that represents\n",
        "        a normalized quantum state.\n",
        "    \"\"\"\n",
        "\n",
        "    ##################\n",
        "    # YOUR CODE HERE #\n",
        "    ##################\n",
        "\n",
        "    # CREATE A VECTOR [a', b'] BASED ON alpha AND beta SUCH THAT |a'|^2 + |b'|^2 = 1\n",
        "\n",
        "    # RETURN A VECTOR\n",
        "    norm = ((alpha.real**2 + alpha.imag**2)+(beta.real**2 + beta.imag**2))**(1/2)\n",
        "\n",
        "    normed_alpha = alpha/norm\n",
        "    normed_beta = beta/norm\n",
        "\n",
        "    return np.array([normed_alpha, normed_beta])\n",
        "\n",
        "print(normalize_state(1+2.j, 2+3j))"
      ]
    },
    {
      "cell_type": "markdown",
      "metadata": {
        "id": "eGm30yEjIOiI"
      },
      "source": [
        "### I.1.2 - Inner product and orthonormal bases\n"
      ]
    },
    {
      "cell_type": "code",
      "execution_count": null,
      "metadata": {
        "colab": {
          "base_uri": "https://localhost:8080/"
        },
        "id": "InrtZRtbH8oF",
        "outputId": "279e7bf8-78f4-4ec0-912d-37b02bd962cc"
      },
      "outputs": [
        {
          "name": "stdout",
          "output_type": "stream",
          "text": [
            "<0|0> = 1\n",
            "<0|1> = 0\n",
            "<1|0> = 0\n",
            "<1|1> = 1\n"
          ]
        }
      ],
      "source": [
        "def inner_product(state_1, state_2):\n",
        "    \"\"\"Compute the inner product between two states.\n",
        "\n",
        "    Args:\n",
        "        state_1 (np.array[complex]): A normalized quantum state vector\n",
        "        state_2 (np.array[complex]): A second normalized quantum state vector\n",
        "\n",
        "    Returns:\n",
        "        complex: The value of the inner product <state_1 | state_2>.\n",
        "    \"\"\"\n",
        "\n",
        "    ##################\n",
        "    # YOUR CODE HERE #\n",
        "    ##################\n",
        "\n",
        "    # COMPUTE AND RETURN THE INNER PRODUCT\n",
        "    # state_1 as bra\n",
        "    state_1_conj = np.conj(state_1)\n",
        "\n",
        "    # element wise product and sum\n",
        "    v = np.sum(state_1_conj*state_2)\n",
        "\n",
        "    return v\n",
        "\n",
        "\n",
        "# Test your results with this code\n",
        "ket_0 = np.array([1, 0])\n",
        "ket_1 = np.array([0, 1])\n",
        "\n",
        "print(f\"<0|0> = {inner_product(ket_0, ket_0)}\")\n",
        "print(f\"<0|1> = {inner_product(ket_0, ket_1)}\")\n",
        "print(f\"<1|0> = {inner_product(ket_1, ket_0)}\")\n",
        "print(f\"<1|1> = {inner_product(ket_1, ket_1)}\")\n"
      ]
    },
    {
      "cell_type": "markdown",
      "metadata": {
        "id": "MZu-mBviIjJd"
      },
      "source": [
        "### I.1.3 -- Sampling measurement outcomes"
      ]
    },
    {
      "cell_type": "code",
      "execution_count": null,
      "metadata": {
        "colab": {
          "base_uri": "https://localhost:8080/"
        },
        "id": "cOVs7iItIm03",
        "outputId": "6e1f7c1e-6041-4ab3-dbaf-612e1b39871b"
      },
      "outputs": [
        {
          "name": "stdout",
          "output_type": "stream",
          "text": [
            "[0 0 1 1 0 0 1 1 0 0]\n"
          ]
        }
      ],
      "source": [
        "def measure_state(state, num_meas):\n",
        "    \"\"\"Simulate a quantum measurement process.\n",
        "\n",
        "    Args:\n",
        "        state (np.array[complex]): A normalized qubit state vector.\n",
        "        num_meas (int): The number of measurements to take\n",
        "\n",
        "    Returns:\n",
        "        np.array[int]: A set of num_meas samples, 0 or 1, chosen according to the probability\n",
        "        distribution defined by the input state.\n",
        "    \"\"\"\n",
        "\n",
        "    ##################\n",
        "    # YOUR CODE HERE #\n",
        "    ##################\n",
        "\n",
        "    # COMPUTE THE MEASUREMENT OUTCOME PROBABILITIES\n",
        "\n",
        "    # RETURN A LIST OF SAMPLE MEASUREMENT OUTCOMES\n",
        "\n",
        "    prob_0 = np.abs(state[0])**2\n",
        "    prob_1 = np.abs(state[1])**2\n",
        "\n",
        "    # Generate samples based on the computed probabilities\n",
        "    samples = np.random.choice([0, 1], size=num_meas, p=[prob_0, prob_1])\n",
        "    return samples\n",
        "\n",
        "print(measure_state(normalize_state(1+0j, 0+1j), 10))"
      ]
    },
    {
      "cell_type": "markdown",
      "metadata": {
        "id": "vdr7KsYXKyxB"
      },
      "source": [
        "### I.1.4 - Applying a quantum operation"
      ]
    },
    {
      "cell_type": "code",
      "execution_count": null,
      "metadata": {
        "colab": {
          "base_uri": "https://localhost:8080/"
        },
        "id": "YDGkvleEKCva",
        "outputId": "2c7c9d59-09e7-41c8-d7fa-1c9e591d606c"
      },
      "outputs": [
        {
          "name": "stdout",
          "output_type": "stream",
          "text": [
            "[0.5+0.5j 0.5-0.5j]\n"
          ]
        }
      ],
      "source": [
        "U = np.array([[1, 1], [1, -1]]) / np.sqrt(2)\n",
        "\n",
        "\n",
        "def apply_u(state):\n",
        "    \"\"\"Apply a quantum operation.\n",
        "\n",
        "    Args:\n",
        "        state (np.array[complex]): A normalized quantum state vector.\n",
        "\n",
        "    Returns:\n",
        "        np.array[complex]: The output state after applying U.\n",
        "    \"\"\"\n",
        "\n",
        "    ##################\n",
        "    # YOUR CODE HERE #\n",
        "    ##################\n",
        "\n",
        "    # APPLY U TO THE INPUT STATE AND RETURN THE NEW STATE\n",
        "    return np.dot(U, state)\n",
        "\n",
        "print(apply_u(normalize_state(1+0j, 0+1j)))"
      ]
    },
    {
      "cell_type": "markdown",
      "metadata": {
        "id": "LCopol7uLKLj"
      },
      "source": [
        "### I.1.5 - A simple quantum algorithm"
      ]
    },
    {
      "cell_type": "code",
      "execution_count": null,
      "metadata": {
        "colab": {
          "base_uri": "https://localhost:8080/"
        },
        "id": "WJ9WlU0ELEHn",
        "outputId": "c4b1a6d4-b3f4-47e0-e5a3-9af97cecc82c"
      },
      "outputs": [
        {
          "name": "stdout",
          "output_type": "stream",
          "text": [
            "[0 1 0 1 1 0 0 0 1 0 1 0 1 1 1 0 0 0 0 1 0 1 1 1 0 1 1 1 1 0 1 1 1 1 0 0 0\n",
            " 1 1 0 1 1 0 0 1 1 1 1 1 0 0 1 1 1 1 1 0 0 1 0 0 0 0 0 0 0 1 0 1 0 1 1 0 0\n",
            " 1 0 1 0 1 1 1 0 0 0 1 1 0 1 0 1 1 1 0 0 1 0 0 1 1 1]\n"
          ]
        }
      ],
      "source": [
        "U = np.array([[1, 1], [1, -1]]) / np.sqrt(2)\n",
        "\n",
        "\n",
        "def initialize_state():\n",
        "    \"\"\"Prepare a qubit in state |0>.\n",
        "\n",
        "    Returns:\n",
        "        np.array[float]: the vector representation of state |0>.\n",
        "    \"\"\"\n",
        "\n",
        "    ##################\n",
        "    # YOUR CODE HERE #\n",
        "    ##################\n",
        "\n",
        "    # PREPARE THE STATE |0>\n",
        "    return np.array([1, 0])\n",
        "\n",
        "\n",
        "def apply_u(state):\n",
        "    \"\"\"Apply a quantum operation.\"\"\"\n",
        "    return np.dot(U, state)\n",
        "\n",
        "\n",
        "def measure_state(state, num_meas):\n",
        "    \"\"\"Measure a quantum state num_meas times.\"\"\"\n",
        "    p_alpha = np.abs(state[0]) ** 2\n",
        "    p_beta = np.abs(state[1]) ** 2\n",
        "    meas_outcome = np.random.choice([0, 1], p=[p_alpha, p_beta], size=num_meas)\n",
        "    return meas_outcome\n",
        "\n",
        "\n",
        "def quantum_algorithm():\n",
        "    \"\"\"Use the functions above to implement the quantum algorithm described above.\n",
        "\n",
        "    Try and do so using three lines of code or less!\n",
        "\n",
        "    Returns:\n",
        "        np.array[int]: the measurement results after running the algorithm 100 times\n",
        "    \"\"\"\n",
        "\n",
        "    ##################\n",
        "    # YOUR CODE HERE #\n",
        "    ##################\n",
        "\n",
        "    # PREPARE THE STATE, APPLY U, THEN TAKE 100 MEASUREMENT SAMPLES\n",
        "    state = initialize_state()\n",
        "    state = apply_u(state)\n",
        "    return measure_state(state, 100)\n",
        "\n",
        "print(quantum_algorithm())"
      ]
    },
    {
      "cell_type": "markdown",
      "metadata": {
        "id": "NheM9nCJLoKG"
      },
      "source": [
        "## 2. Quantum Circuits"
      ]
    },
    {
      "cell_type": "markdown",
      "metadata": {
        "id": "gMwhD_9eLtUT"
      },
      "source": [
        "### I.2.1 - Order of operations"
      ]
    },
    {
      "cell_type": "code",
      "execution_count": null,
      "metadata": {
        "colab": {
          "base_uri": "https://localhost:8080/"
        },
        "id": "C_4V9BNZLdJ9",
        "outputId": "4b490145-d30d-4e3a-e372-253106bc3969"
      },
      "outputs": [
        {
          "name": "stdout",
          "output_type": "stream",
          "text": [
            "probs(wires=[0, 1, 2])\n"
          ]
        }
      ],
      "source": [
        "from math import pi\n",
        "def my_circuit(theta, phi):\n",
        "    ##################\n",
        "    # YOUR CODE HERE #\n",
        "    ##################\n",
        "\n",
        "    # REORDER THESE 5 GATES TO MATCH THE CIRCUIT IN THE PICTURE\n",
        "\n",
        "    qml.CNOT(wires=[0, 1])\n",
        "    qml.RX(theta, wires=2)\n",
        "    qml.Hadamard(wires=0)\n",
        "    qml.CNOT(wires=[2, 0])\n",
        "    qml.RY(phi, wires=1)\n",
        "\n",
        "    # This is the measurement; we return the probabilities of all possible output states\n",
        "    # You'll learn more about what types of measurements are available in a later node\n",
        "    return qml.probs(wires=[0, 1, 2])\n",
        "\n",
        "print(my_circuit(pi, pi/3))"
      ]
    },
    {
      "cell_type": "markdown",
      "metadata": {
        "id": "n-gdDRqCMatt"
      },
      "source": [
        "### I.2.2 - Building a QNode"
      ]
    },
    {
      "cell_type": "code",
      "execution_count": null,
      "metadata": {
        "colab": {
          "base_uri": "https://localhost:8080/"
        },
        "id": "H9VIsJBEMTO1",
        "outputId": "094b007f-13e0-4177-9a7a-d778aee007ff"
      },
      "outputs": [
        {
          "data": {
            "text/plain": [
              "tensor([9.87560268e-01, 0.00000000e+00, 0.00000000e+00, 2.47302134e-03,\n",
              "        2.48960206e-05, 0.00000000e+00, 0.00000000e+00, 9.94181506e-03], requires_grad=True)"
            ]
          },
          "execution_count": 10,
          "metadata": {},
          "output_type": "execute_result"
        }
      ],
      "source": [
        "# This creates a device with three wires on which PennyLane can run computations\n",
        "dev = qml.device(\"default.qubit\", wires=3)\n",
        "\n",
        "\n",
        "def my_circuit(theta, phi, omega):\n",
        "\n",
        "    ##################\n",
        "    # YOUR CODE HERE #\n",
        "    ##################\n",
        "\n",
        "    # IMPLEMENT THE CIRCUIT BY ADDING THE GATES\n",
        "\n",
        "    # Here are two examples, so you can see the format:\n",
        "    # qml.CNOT(wires=[0, 1])\n",
        "    qml.RX(theta, wires=0)\n",
        "    qml.RY(phi, wires=1)\n",
        "    qml.RZ(omega, wires=2)\n",
        "\n",
        "    qml.CNOT(wires=[0, 1])\n",
        "    qml.CNOT(wires=[1, 2])\n",
        "    qml.CNOT(wires=[2, 0])\n",
        "\n",
        "\n",
        "    return qml.probs(wires=[0, 1, 2])\n",
        "\n",
        "\n",
        "# This creates a QNode, binding the function and device\n",
        "my_qnode = qml.QNode(my_circuit, dev)\n",
        "\n",
        "# We set up some values for the input parameters\n",
        "theta, phi, omega = 0.1, 0.2, 0.3\n",
        "\n",
        "# Now we can execute the QNode by calling it like we would a regular function\n",
        "my_qnode(theta, phi, omega)"
      ]
    },
    {
      "cell_type": "markdown",
      "metadata": {
        "id": "iC0sRL0rMn6w"
      },
      "source": [
        "### I.2.3 - The Qnode decorator"
      ]
    },
    {
      "cell_type": "code",
      "execution_count": null,
      "metadata": {
        "colab": {
          "base_uri": "https://localhost:8080/"
        },
        "id": "qek5DOJ2Mkt5",
        "outputId": "c4a92feb-81af-45ac-be87-83a3068e75ca"
      },
      "outputs": [
        {
          "data": {
            "text/plain": [
              "tensor([9.75226110e-01, 0.00000000e+00, 0.00000000e+00, 2.44213448e-03,\n",
              "        5.57828796e-05, 0.00000000e+00, 0.00000000e+00, 2.22759726e-02], requires_grad=True)"
            ]
          },
          "execution_count": 11,
          "metadata": {},
          "output_type": "execute_result"
        }
      ],
      "source": [
        "dev = qml.device(\"default.qubit\", wires=3)\n",
        "\n",
        "##################\n",
        "# YOUR CODE HERE #\n",
        "##################\n",
        "\n",
        "# DECORATE THE FUNCTION BELOW TO TURN IT INTO A QNODE\n",
        "\n",
        "@qml.qnode(dev)\n",
        "def my_circuit(theta, phi, omega):\n",
        "    qml.RX(theta, wires=0)\n",
        "    qml.RY(phi, wires=1)\n",
        "    qml.RZ(omega, wires=2)\n",
        "    qml.CNOT(wires=[0, 1])\n",
        "    qml.CNOT(wires=[1, 2])\n",
        "    qml.CNOT(wires=[2, 0])\n",
        "    return qml.probs(wires=[0, 1, 2])\n",
        "\n",
        "\n",
        "theta, phi, omega = 0.1, 0.2, 0.3\n",
        "\n",
        "##################\n",
        "# YOUR CODE HERE #\n",
        "##################\n",
        "my_circuit(theta, omega, phi)\n",
        "# RUN THE QNODE WITH THE PROVIDED PARAMETERS\n"
      ]
    },
    {
      "cell_type": "markdown",
      "metadata": {
        "id": "eYJBwatPM1ji"
      },
      "source": [
        "### I.2.4 - Circuit depth"
      ]
    },
    {
      "cell_type": "code",
      "execution_count": null,
      "metadata": {
        "id": "_Bz6vyIyM455"
      },
      "outputs": [],
      "source": [
        "dev = qml.device(\"default.qubit\", wires=3)\n",
        "\n",
        "\n",
        "@qml.qnode(dev)\n",
        "def my_circuit(theta, phi, omega):\n",
        "    qml.RX(theta, wires=0)\n",
        "    qml.RY(phi, wires=1)\n",
        "    qml.RZ(omega, wires=2)\n",
        "    qml.CNOT(wires=[0, 1])\n",
        "    qml.CNOT(wires=[1, 2])\n",
        "    qml.CNOT(wires=[2, 0])\n",
        "    return qml.probs(wires=[0, 1, 2])\n",
        "\n",
        "\n",
        "##################\n",
        "# YOUR CODE HERE #\n",
        "##################\n",
        "\n",
        "# FILL IN THE CORRECT CIRCUIT DEPTH\n",
        "depth = 4\n"
      ]
    },
    {
      "cell_type": "markdown",
      "metadata": {
        "id": "hyVy_b4RNBbs"
      },
      "source": [
        "## 3. Unitary Matrices"
      ]
    },
    {
      "cell_type": "markdown",
      "metadata": {
        "id": "B8O-YtpLNK3t"
      },
      "source": [
        "### I.3.1 - Unitaries in Pennylane"
      ]
    },
    {
      "cell_type": "code",
      "execution_count": null,
      "metadata": {
        "colab": {
          "base_uri": "https://localhost:8080/"
        },
        "id": "wsW0mITvM802",
        "outputId": "0afcc3ce-9823-4019-cd40-205582511edb"
      },
      "outputs": [
        {
          "name": "stdout",
          "output_type": "stream",
          "text": [
            "[0.70710678+0.j 0.70710678+0.j]\n"
          ]
        }
      ],
      "source": [
        "dev = qml.device(\"default.qubit\", wires=1)\n",
        "\n",
        "U = np.array([[1, 1], [1, -1]]) / np.sqrt(2)\n",
        "\n",
        "\n",
        "@qml.qnode(dev)\n",
        "def apply_u():\n",
        "\n",
        "    ##################\n",
        "    # YOUR CODE HERE #\n",
        "    ##################\n",
        "\n",
        "    # USE QubitUnitary TO APPLY U TO THE QUBIT\n",
        "    qml.QubitUnitary(U, wires = 0)\n",
        "\n",
        "    # Return the state\n",
        "    return qml.state()\n",
        "print(apply_u())"
      ]
    },
    {
      "cell_type": "markdown",
      "metadata": {
        "id": "tIPL05CINd3w"
      },
      "source": [
        "### I.3.2 - Parameterized unitaries"
      ]
    },
    {
      "cell_type": "code",
      "execution_count": null,
      "metadata": {
        "colab": {
          "base_uri": "https://localhost:8080/"
        },
        "id": "bg_yFgqmNWiV",
        "outputId": "ca663c17-e45f-4a74-c5b7-0bff7ed9bd6f"
      },
      "outputs": [
        {
          "name": "stdout",
          "output_type": "stream",
          "text": [
            "[-0.35355339-0.61237244j  0.35355339-0.61237244j]\n"
          ]
        }
      ],
      "source": [
        "dev = qml.device(\"default.qubit\", wires=1)\n",
        "\n",
        "\n",
        "@qml.qnode(dev)\n",
        "def apply_u_as_rot(phi, theta, omega):\n",
        "\n",
        "    ##################\n",
        "    # YOUR CODE HERE #\n",
        "    ##################\n",
        "\n",
        "    # APPLY A ROT GATE USING THE PROVIDED INPUT PARAMETERS\n",
        "    qml.Rot(phi, theta, omega, wires=0)\n",
        "\n",
        "    # RETURN THE QUANTUM STATE VECTOR\n",
        "    state = qml.state()\n",
        "    return state\n",
        "print(apply_u_as_rot(pi, pi/2, pi/3))"
      ]
    },
    {
      "cell_type": "markdown",
      "metadata": {
        "id": "AFtxwaexN8KA"
      },
      "source": [
        "# Single Qubit Gates"
      ]
    },
    {
      "cell_type": "markdown",
      "metadata": {
        "id": "0RVyfdggVqxf"
      },
      "source": [
        "<a href=\"https://ibb.co/TB487zx\"><img src=\"https://i.ibb.co/99bT1Rk/2024-07-15-22-58.png\" alt=\"2024-07-15-22-58\" border=\"0\"></a>"
      ]
    },
    {
      "cell_type": "markdown",
      "metadata": {
        "id": "ratpQfB5OCXB"
      },
      "source": [
        "## 1. X and H"
      ]
    },
    {
      "cell_type": "markdown",
      "metadata": {
        "id": "I_WLhhcbOLVB"
      },
      "source": [
        "### I.4.1 - Flipping bits"
      ]
    },
    {
      "cell_type": "code",
      "execution_count": null,
      "metadata": {
        "colab": {
          "base_uri": "https://localhost:8080/"
        },
        "id": "QU5WoNIZNr8X",
        "outputId": "b89867d4-9ab1-4819-d3c7-2cf149d457ee"
      },
      "outputs": [
        {
          "name": "stdout",
          "output_type": "stream",
          "text": [
            "[0.70710678+0.j 0.70710678+0.j]\n",
            "[ 0.70710678+0.j -0.70710678+0.j]\n"
          ]
        }
      ],
      "source": [
        "dev = qml.device(\"default.qubit\", wires=1)\n",
        "\n",
        "U = np.array([[1, 1], [1, -1]]) / np.sqrt(2)\n",
        "\n",
        "\n",
        "@qml.qnode(dev)\n",
        "def varied_initial_state(state):\n",
        "    \"\"\"Complete the function such that we can apply the operation U to\n",
        "    either |0> or |1> depending on the input argument flag.\n",
        "\n",
        "    Args:\n",
        "        state (int): Either 0 or 1. If 1, prepare the qubit in state |1>,\n",
        "            otherwise, leave it in state 0.\n",
        "\n",
        "    Returns:\n",
        "        np.array[complex]: The state of the qubit after the operations.\n",
        "    \"\"\"\n",
        "    ##################\n",
        "    # YOUR CODE HERE #\n",
        "    ##################\n",
        "\n",
        "    # KEEP THE QUBIT IN |0> OR CHANGE IT TO |1> DEPENDING ON THE state PARAMETER\n",
        "    if state==1:\n",
        "        qml.PauliX(wires = 0)\n",
        "\n",
        "    # vec = np.conj(vec)\n",
        "\n",
        "    # APPLY U TO THE STATE\n",
        "    qml.QubitUnitary(U, wires = 0)\n",
        "\n",
        "    return qml.state()\n",
        "\n",
        "for i in [0, 1]:\n",
        "    print(varied_initial_state(i))"
      ]
    },
    {
      "cell_type": "markdown",
      "metadata": {
        "id": "Pwm0dxQPOhCw"
      },
      "source": [
        "### I.4.2 - Uniform superposition"
      ]
    },
    {
      "cell_type": "code",
      "execution_count": null,
      "metadata": {
        "colab": {
          "base_uri": "https://localhost:8080/"
        },
        "id": "ER2RNwSvOdPZ",
        "outputId": "70bbd2c4-f750-4ae2-d669-47954a4065f3"
      },
      "outputs": [
        {
          "name": "stdout",
          "output_type": "stream",
          "text": [
            "[0.70710678+0.j 0.70710678+0.j]\n"
          ]
        }
      ],
      "source": [
        "dev = qml.device(\"default.qubit\", wires=1)\n",
        "\n",
        "\n",
        "@qml.qnode(dev)\n",
        "def apply_hadamard():\n",
        "    ##################\n",
        "    # YOUR CODE HERE #\n",
        "    ##################\n",
        "\n",
        "    # APPLY THE HADAMARD GATE\n",
        "\n",
        "    # RETURN THE STATE\n",
        "    qml.Hadamard(wires=0)\n",
        "    return qml.state()\n",
        "\n",
        "print(apply_hadamard())"
      ]
    },
    {
      "cell_type": "markdown",
      "metadata": {
        "id": "0_3GhztQOv0K"
      },
      "source": [
        "### I.4.3 - Combining X and H"
      ]
    },
    {
      "cell_type": "code",
      "execution_count": null,
      "metadata": {
        "colab": {
          "base_uri": "https://localhost:8080/"
        },
        "id": "iWytzg1dOskn",
        "outputId": "de1e5095-6fd9-46ac-9d08-3bd0a68e28b1"
      },
      "outputs": [
        {
          "name": "stdout",
          "output_type": "stream",
          "text": [
            "[0.70710678+0.j 0.70710678+0.j]\n",
            "[ 0.70710678+0.j -0.70710678+0.j]\n"
          ]
        }
      ],
      "source": [
        "dev = qml.device(\"default.qubit\", wires=1)\n",
        "\n",
        "\n",
        "@qml.qnode(dev)\n",
        "def apply_hadamard_to_state(state):\n",
        "    \"\"\"Complete the function such that we can apply the Hadamard to\n",
        "    either |0> or |1> depending on the input argument flag.\n",
        "\n",
        "    Args:\n",
        "        state (int): Either 0 or 1. If 1, prepare the qubit in state |1>,\n",
        "            otherwise, leave it in state 0.\n",
        "\n",
        "    Returns:\n",
        "        np.array[complex]: The state of the qubit after the operations.\n",
        "    \"\"\"\n",
        "    ##################\n",
        "    # YOUR CODE HERE #\n",
        "    ##################\n",
        "\n",
        "    # KEEP THE QUBIT IN |0> OR CHANGE IT TO |1> DEPENDING ON state\n",
        "    if state==1:\n",
        "        qml.PauliX(wires = 0)\n",
        "\n",
        "    # APPLY THE HADAMARD\n",
        "    qml.Hadamard(wires = 0)\n",
        "\n",
        "    # RETURN THE STATE\n",
        "\n",
        "    return qml.state()\n",
        "\n",
        "\n",
        "print(apply_hadamard_to_state(0))\n",
        "print(apply_hadamard_to_state(1))\n"
      ]
    },
    {
      "cell_type": "markdown",
      "metadata": {
        "id": "9eWWyzEhPA4e"
      },
      "source": [
        "### I.4.4 - A QNode with X and H"
      ]
    },
    {
      "cell_type": "code",
      "execution_count": null,
      "metadata": {
        "colab": {
          "base_uri": "https://localhost:8080/"
        },
        "id": "m9F4vbQbO48v",
        "outputId": "4d850bd9-058b-47bc-dc71-91d717e07d34"
      },
      "outputs": [
        {
          "name": "stdout",
          "output_type": "stream",
          "text": [
            "[1.+0.j 0.+0.j]\n",
            "[ 0.+0.j -1.+0.j]\n"
          ]
        }
      ],
      "source": [
        "##################\n",
        "# YOUR CODE HERE #\n",
        "##################\n",
        "\n",
        "# CREATE A DEVICE\n",
        "dev = qml.device('default.qubit', wires=1)\n",
        "\n",
        "# CREATE A QNODE CALLED apply_hxh THAT APPLIES THE CIRCUIT ABOVE\n",
        "@qml.qnode(dev)\n",
        "def apply_hxh(state):\n",
        "\n",
        "    if state==1:\n",
        "        qml.PauliX(wires=0)\n",
        "\n",
        "    qml.Hadamard(wires=0)\n",
        "    qml.PauliX(wires=0)\n",
        "    qml.Hadamard(wires=0)\n",
        "\n",
        "    return qml.state()\n",
        "# Print your results\n",
        "print(apply_hxh(0))\n",
        "print(apply_hxh(1))\n"
      ]
    },
    {
      "cell_type": "markdown",
      "metadata": {
        "id": "o33lYASEPKxY"
      },
      "source": [
        "## 2. It's just a phase"
      ]
    },
    {
      "cell_type": "markdown",
      "metadata": {
        "id": "vsF5tLShPSHG"
      },
      "source": [
        "### I.5.1 - The Pauli Z gate"
      ]
    },
    {
      "cell_type": "code",
      "execution_count": null,
      "metadata": {
        "colab": {
          "base_uri": "https://localhost:8080/"
        },
        "id": "JM-h3UBwPHUQ",
        "outputId": "5c3ea971-0094-4947-f6e1-b5c6f6564bad"
      },
      "outputs": [
        {
          "name": "stdout",
          "output_type": "stream",
          "text": [
            "[ 0.70710678+0.j -0.70710678+0.j]\n"
          ]
        }
      ],
      "source": [
        "dev = qml.device(\"default.qubit\", wires=1)\n",
        "\n",
        "\n",
        "@qml.qnode(dev)\n",
        "def apply_z_to_plus():\n",
        "    \"\"\"Write a circuit that applies PauliZ to the |+> state and returns\n",
        "    the state.\n",
        "\n",
        "    Returns:\n",
        "        np.array[complex]: The state of the qubit after the operations.\n",
        "    \"\"\"\n",
        "\n",
        "    ##################\n",
        "    # YOUR CODE HERE #\n",
        "    ##################\n",
        "\n",
        "    # CREATE THE |+> STATE\n",
        "    qml.Hadamard(wires=0)\n",
        "\n",
        "    # APPLY PAULI Z\n",
        "    qml.PauliZ(wires=0)\n",
        "\n",
        "    # RETURN THE STATE\n",
        "    return qml.state()\n",
        "\n",
        "\n",
        "print(apply_z_to_plus())\n"
      ]
    },
    {
      "cell_type": "markdown",
      "metadata": {
        "id": "V3e426hnPZYg"
      },
      "source": [
        "### I.5.2 - The Z rotation"
      ]
    },
    {
      "cell_type": "code",
      "execution_count": null,
      "metadata": {
        "colab": {
          "base_uri": "https://localhost:8080/"
        },
        "id": "GBuYzTfuPdiN",
        "outputId": "ebb4d3c8-42a1-4e0a-d4ad-ceb3a5bff946"
      },
      "outputs": [
        {
          "name": "stdout",
          "output_type": "stream",
          "text": [
            "[4.32978028e-17-0.70710678j 4.32978028e-17+0.70710678j]\n"
          ]
        }
      ],
      "source": [
        "dev = qml.device(\"default.qubit\", wires=1)\n",
        "\n",
        "\n",
        "@qml.qnode(dev)\n",
        "def fake_z():\n",
        "    \"\"\"Use RZ to produce the same action as Pauli Z on the |+> state.\n",
        "\n",
        "    Returns:\n",
        "        np.array[complex]: The state of the qubit after the operations.\n",
        "    \"\"\"\n",
        "\n",
        "    ##################\n",
        "    # YOUR CODE HERE #\n",
        "    ##################\n",
        "\n",
        "    # CREATE THE |+> STATE\n",
        "    qml.Hadamard(wires=0)\n",
        "\n",
        "    # APPLY RZ\n",
        "    qml.RZ(np.deg2rad(180), wires=0)\n",
        "\n",
        "    # RETURN THE STATE\n",
        "    return qml.state()\n",
        "\n",
        "print(fake_z())"
      ]
    },
    {
      "cell_type": "markdown",
      "metadata": {
        "id": "hOiaLnpdPnco"
      },
      "source": [
        "### I.5.3 -  The S and T gates"
      ]
    },
    {
      "cell_type": "code",
      "execution_count": null,
      "metadata": {
        "colab": {
          "base_uri": "https://localhost:8080/"
        },
        "id": "JKqNv1xOPh3o",
        "outputId": "d720a02f-7c77-4345-fdc3-c00035cc65fd"
      },
      "outputs": [
        {
          "name": "stdout",
          "output_type": "stream",
          "text": [
            "[0.69916673-0.10566872j 0.56910461-0.41966647j]\n"
          ]
        }
      ],
      "source": [
        "dev = qml.device(\"default.qubit\", wires=1)\n",
        "\n",
        "\n",
        "@qml.qnode(dev)\n",
        "def many_rotations():\n",
        "    \"\"\"Implement the circuit depicted above and return the quantum state.\n",
        "\n",
        "    Returns:\n",
        "        np.array[complex]: The state of the qubit after the operations.\n",
        "    \"\"\"\n",
        "\n",
        "    ##################\n",
        "    # YOUR CODE HERE #\n",
        "    ##################\n",
        "\n",
        "    # IMPLEMENT THE CIRCUIT\n",
        "    qml.Hadamard(wires=0)\n",
        "    qml.S(wires=0)\n",
        "    qml.adjoint(qml.T)(wires=0)\n",
        "    qml.RZ(0.3, wires=0)\n",
        "    qml.adjoint(qml.S)(wires=0)\n",
        "    # qml.probe(wires=0)\n",
        "\n",
        "\n",
        "    # RETURN THE STATE\n",
        "\n",
        "    return qml.state()\n",
        "\n",
        "print(many_rotations())"
      ]
    },
    {
      "cell_type": "markdown",
      "metadata": {
        "id": "X0OmGrHzP2pk"
      },
      "source": [
        "## 3. From a different Angle"
      ]
    },
    {
      "cell_type": "markdown",
      "metadata": {
        "id": "pxSF6OxCP-Y6"
      },
      "source": [
        "### I.6.1 - Applying RX"
      ]
    },
    {
      "cell_type": "code",
      "execution_count": null,
      "metadata": {
        "colab": {
          "base_uri": "https://localhost:8080/"
        },
        "id": "ToHN79owPw1d",
        "outputId": "7e1d59f9-8d4d-45ce-865a-efb416f04de2"
      },
      "outputs": [
        {
          "name": "stdout",
          "output_type": "stream",
          "text": [
            "[6.123234e-17+0.j 0.000000e+00-1.j]\n",
            "[0.000000e+00-1.j 6.123234e-17+0.j]\n"
          ]
        }
      ],
      "source": [
        "dev = qml.device(\"default.qubit\", wires=1)\n",
        "\n",
        "\n",
        "@qml.qnode(dev)\n",
        "def apply_rx_pi(state):\n",
        "    \"\"\"Apply an RX gate with an angle of \\pi to a particular basis state.\n",
        "\n",
        "    Args:\n",
        "        state (int): Either 0 or 1. If 1, initialize the qubit to state |1>\n",
        "            before applying other operations.\n",
        "\n",
        "    Returns:\n",
        "        np.array[complex]: The state of the qubit after the operations.\n",
        "    \"\"\"\n",
        "    def deg2rad(degrees):\n",
        "        return degrees * 0.017453292519943295  # This is π/180 pre-calculated\n",
        "\n",
        "    if state == 1:\n",
        "        qml.PauliX(wires=0)\n",
        "\n",
        "    ##################\n",
        "    # YOUR CODE HERE #\n",
        "    ##################\n",
        "\n",
        "    # APPLY RX(pi) AND RETURN THE STATE\n",
        "    qml.RX(deg2rad(180), wires=0)\n",
        "\n",
        "    return qml.state()\n",
        "\n",
        "\n",
        "print(apply_rx_pi(0))\n",
        "print(apply_rx_pi(1))\n"
      ]
    },
    {
      "cell_type": "markdown",
      "metadata": {
        "id": "hC-BmUGbQGQz"
      },
      "source": [
        "### I.6.2 - Plotting RX"
      ]
    },
    {
      "cell_type": "code",
      "execution_count": null,
      "metadata": {
        "colab": {
          "base_uri": "https://localhost:8080/"
        },
        "id": "K8-Fi8x-QE80",
        "outputId": "c136f535-f9cd-4a59-a5d9-c031792880eb"
      },
      "outputs": [
        {
          "name": "stdout",
          "output_type": "stream",
          "text": [
            "[[ 1.        +0.00000000e+00j  0.        +0.00000000e+00j]\n",
            " [ 0.99950159+0.00000000e+00j  0.        -3.15685498e-02j]\n",
            " [ 0.99800685+0.00000000e+00j  0.        -6.31056313e-02j]\n",
            " [ 0.99551728+0.00000000e+00j  0.        -9.45798078e-02j]\n",
            " [ 0.99203536+0.00000000e+00j  0.        -1.25959705e-01j]\n",
            " [ 0.98756455+0.00000000e+00j  0.        -1.57214043e-01j]\n",
            " [ 0.98210932+0.00000000e+00j  0.        -1.88311666e-01j]\n",
            " [ 0.9756751 +0.00000000e+00j  0.        -2.19221577e-01j]\n",
            " [ 0.96826831+0.00000000e+00j  0.        -2.49912962e-01j]\n",
            " [ 0.95989632+0.00000000e+00j  0.        -2.80355229e-01j]\n",
            " [ 0.95056749+0.00000000e+00j  0.        -3.10518032e-01j]\n",
            " [ 0.94029111+0.00000000e+00j  0.        -3.40371303e-01j]\n",
            " [ 0.92907743+0.00000000e+00j  0.        -3.69885285e-01j]\n",
            " [ 0.91693763+0.00000000e+00j  0.        -3.99030558e-01j]\n",
            " [ 0.9038838 +0.00000000e+00j  0.        -4.27778068e-01j]\n",
            " [ 0.88992896+0.00000000e+00j  0.        -4.56099159e-01j]\n",
            " [ 0.87508702+0.00000000e+00j  0.        -4.83965601e-01j]\n",
            " [ 0.85937278+0.00000000e+00j  0.        -5.11349616e-01j]\n",
            " [ 0.84280189+0.00000000e+00j  0.        -5.38223906e-01j]\n",
            " [ 0.82539088+0.00000000e+00j  0.        -5.64561683e-01j]\n",
            " [ 0.8071571 +0.00000000e+00j  0.        -5.90336692e-01j]\n",
            " [ 0.78811873+0.00000000e+00j  0.        -6.15523241e-01j]\n",
            " [ 0.76829475+0.00000000e+00j  0.        -6.40096223e-01j]\n",
            " [ 0.74770492+0.00000000e+00j  0.        -6.64031143e-01j]\n",
            " [ 0.72636975+0.00000000e+00j  0.        -6.87304143e-01j]\n",
            " [ 0.70431053+0.00000000e+00j  0.        -7.09892022e-01j]\n",
            " [ 0.68154923+0.00000000e+00j  0.        -7.31772266e-01j]\n",
            " [ 0.65810855+0.00000000e+00j  0.        -7.52923064e-01j]\n",
            " [ 0.63401185+0.00000000e+00j  0.        -7.73323331e-01j]\n",
            " [ 0.60928316+0.00000000e+00j  0.        -7.92952733e-01j]\n",
            " [ 0.58394711+0.00000000e+00j  0.        -8.11791702e-01j]\n",
            " [ 0.55802898+0.00000000e+00j  0.        -8.29821460e-01j]\n",
            " [ 0.53155459+0.00000000e+00j  0.        -8.47024034e-01j]\n",
            " [ 0.50455034+0.00000000e+00j  0.        -8.63382275e-01j]\n",
            " [ 0.47704314+0.00000000e+00j  0.        -8.78879879e-01j]\n",
            " [ 0.44906041+0.00000000e+00j  0.        -8.93501396e-01j]\n",
            " [ 0.42063005+0.00000000e+00j  0.        -9.07232251e-01j]\n",
            " [ 0.3917804 +0.00000000e+00j  0.        -9.20058757e-01j]\n",
            " [ 0.36254021+0.00000000e+00j  0.        -9.31968129e-01j]\n",
            " [ 0.33293864+0.00000000e+00j  0.        -9.42948495e-01j]\n",
            " [ 0.30300518+0.00000000e+00j  0.        -9.52988909e-01j]\n",
            " [ 0.27276968+0.00000000e+00j  0.        -9.62079363e-01j]\n",
            " [ 0.24226228+0.00000000e+00j  0.        -9.70210796e-01j]\n",
            " [ 0.21151339+0.00000000e+00j  0.        -9.77375101e-01j]\n",
            " [ 0.18055365+0.00000000e+00j  0.        -9.83565137e-01j]\n",
            " [ 0.14941394+0.00000000e+00j  0.        -9.88774735e-01j]\n",
            " [ 0.11812528+0.00000000e+00j  0.        -9.92998700e-01j]\n",
            " [ 0.08671888+0.00000000e+00j  0.        -9.96232822e-01j]\n",
            " [ 0.05522603+0.00000000e+00j  0.        -9.98473878e-01j]\n",
            " [ 0.02367813+0.00000000e+00j  0.        -9.99719634e-01j]\n",
            " [-0.00789337+0.00000000e+00j  0.        -9.99968847e-01j]\n",
            " [-0.039457  +0.00000000e+00j  0.        -9.99221269e-01j]\n",
            " [-0.0709813 +0.00000000e+00j  0.        -9.97477646e-01j]\n",
            " [-0.10243484+0.00000000e+00j  0.        -9.94739716e-01j]\n",
            " [-0.13378628+0.00000000e+00j  0.        -9.91010207e-01j]\n",
            " [-0.16500435+0.00000000e+00j  0.        -9.86292838e-01j]\n",
            " [-0.19605795+0.00000000e+00j  0.        -9.80592311e-01j]\n",
            " [-0.22691611+0.00000000e+00j  0.        -9.73914308e-01j]\n",
            " [-0.25754807+0.00000000e+00j  0.        -9.66265486e-01j]\n",
            " [-0.28792331+0.00000000e+00j  0.        -9.57653470e-01j]\n",
            " [-0.31801154+0.00000000e+00j  0.        -9.48086844e-01j]\n",
            " [-0.34778276+0.00000000e+00j  0.        -9.37575144e-01j]\n",
            " [-0.37720731+0.00000000e+00j  0.        -9.26128849e-01j]\n",
            " [-0.40625585+0.00000000e+00j  0.        -9.13759368e-01j]\n",
            " [-0.43489943+0.00000000e+00j  0.        -9.00479032e-01j]\n",
            " [-0.46310949+0.00000000e+00j  0.        -8.86301080e-01j]\n",
            " [-0.49085791+0.00000000e+00j  0.        -8.71239643e-01j]\n",
            " [-0.51811703+0.00000000e+00j  0.        -8.55309735e-01j]\n",
            " [-0.54485968+0.00000000e+00j  0.        -8.38527236e-01j]\n",
            " [-0.57105921+0.00000000e+00j  0.        -8.20908875e-01j]\n",
            " [-0.59668949+0.00000000e+00j  0.        -8.02472214e-01j]\n",
            " [-0.62172498+0.00000000e+00j  0.        -7.83235632e-01j]\n",
            " [-0.64614071+0.00000000e+00j  0.        -7.63218303e-01j]\n",
            " [-0.66991237+0.00000000e+00j  0.        -7.42440181e-01j]\n",
            " [-0.69301623+0.00000000e+00j  0.        -7.20921979e-01j]\n",
            " [-0.71542929+0.00000000e+00j  0.        -6.98685146e-01j]\n",
            " [-0.73712919+0.00000000e+00j  0.        -6.75751849e-01j]\n",
            " [-0.7580943 +0.00000000e+00j  0.        -6.52144947e-01j]\n",
            " [-0.77830373+0.00000000e+00j  0.        -6.27887973e-01j]\n",
            " [-0.79773733+0.00000000e+00j  0.        -6.03005107e-01j]\n",
            " [-0.81637572+0.00000000e+00j  0.        -5.77521152e-01j]\n",
            " [-0.83420034+0.00000000e+00j  0.        -5.51461512e-01j]\n",
            " [-0.8511934 +0.00000000e+00j  0.        -5.24852163e-01j]\n",
            " [-0.86733798+0.00000000e+00j  0.        -4.97719629e-01j]\n",
            " [-0.88261798+0.00000000e+00j  0.        -4.70090958e-01j]\n",
            " [-0.89701816+0.00000000e+00j  0.        -4.41993691e-01j]\n",
            " [-0.91052418+0.00000000e+00j  0.        -4.13455834e-01j]\n",
            " [-0.92312256+0.00000000e+00j  0.        -3.84505835e-01j]\n",
            " [-0.93480076+0.00000000e+00j  0.        -3.55172553e-01j]\n",
            " [-0.94554713+0.00000000e+00j  0.        -3.25485227e-01j]\n",
            " [-0.95535095+0.00000000e+00j  0.        -2.95473450e-01j]\n",
            " [-0.96420246+0.00000000e+00j  0.        -2.65167138e-01j]\n",
            " [-0.97209284+0.00000000e+00j  0.        -2.34596503e-01j]\n",
            " [-0.97901421+0.00000000e+00j  0.        -2.03792016e-01j]\n",
            " [-0.98495967+0.00000000e+00j  0.        -1.72784385e-01j]\n",
            " [-0.98992331+0.00000000e+00j  0.        -1.41604519e-01j]\n",
            " [-0.99390017+0.00000000e+00j  0.        -1.10283499e-01j]\n",
            " [-0.99688629+0.00000000e+00j  0.        -7.88525454e-02j]\n",
            " [-0.99887869+0.00000000e+00j  0.        -4.73429900e-02j]\n",
            " [-0.99987539+0.00000000e+00j  0.        -1.57862420e-02j]\n",
            " [-0.99987539+0.00000000e+00j  0.        +1.57862420e-02j]\n",
            " [-0.99887869+0.00000000e+00j  0.        +4.73429900e-02j]\n",
            " [-0.99688629+0.00000000e+00j  0.        +7.88525454e-02j]\n",
            " [-0.99390017+0.00000000e+00j  0.        +1.10283499e-01j]\n",
            " [-0.98992331+0.00000000e+00j  0.        +1.41604519e-01j]\n",
            " [-0.98495967+0.00000000e+00j  0.        +1.72784385e-01j]\n",
            " [-0.97901421+0.00000000e+00j  0.        +2.03792016e-01j]\n",
            " [-0.97209284+0.00000000e+00j  0.        +2.34596503e-01j]\n",
            " [-0.96420246+0.00000000e+00j  0.        +2.65167138e-01j]\n",
            " [-0.95535095+0.00000000e+00j  0.        +2.95473450e-01j]\n",
            " [-0.94554713+0.00000000e+00j  0.        +3.25485227e-01j]\n",
            " [-0.93480076+0.00000000e+00j  0.        +3.55172553e-01j]\n",
            " [-0.92312256+0.00000000e+00j  0.        +3.84505835e-01j]\n",
            " [-0.91052418+0.00000000e+00j  0.        +4.13455834e-01j]\n",
            " [-0.89701816+0.00000000e+00j  0.        +4.41993691e-01j]\n",
            " [-0.88261798+0.00000000e+00j  0.        +4.70090958e-01j]\n",
            " [-0.86733798+0.00000000e+00j  0.        +4.97719629e-01j]\n",
            " [-0.8511934 +0.00000000e+00j  0.        +5.24852163e-01j]\n",
            " [-0.83420034+0.00000000e+00j  0.        +5.51461512e-01j]\n",
            " [-0.81637572+0.00000000e+00j  0.        +5.77521152e-01j]\n",
            " [-0.79773733+0.00000000e+00j  0.        +6.03005107e-01j]\n",
            " [-0.77830373+0.00000000e+00j  0.        +6.27887973e-01j]\n",
            " [-0.7580943 +0.00000000e+00j  0.        +6.52144947e-01j]\n",
            " [-0.73712919+0.00000000e+00j  0.        +6.75751849e-01j]\n",
            " [-0.71542929+0.00000000e+00j  0.        +6.98685146e-01j]\n",
            " [-0.69301623+0.00000000e+00j  0.        +7.20921979e-01j]\n",
            " [-0.66991237+0.00000000e+00j  0.        +7.42440181e-01j]\n",
            " [-0.64614071+0.00000000e+00j  0.        +7.63218303e-01j]\n",
            " [-0.62172498+0.00000000e+00j  0.        +7.83235632e-01j]\n",
            " [-0.59668949+0.00000000e+00j  0.        +8.02472214e-01j]\n",
            " [-0.57105921+0.00000000e+00j  0.        +8.20908875e-01j]\n",
            " [-0.54485968+0.00000000e+00j  0.        +8.38527236e-01j]\n",
            " [-0.51811703+0.00000000e+00j  0.        +8.55309735e-01j]\n",
            " [-0.49085791+0.00000000e+00j  0.        +8.71239643e-01j]\n",
            " [-0.46310949+0.00000000e+00j  0.        +8.86301080e-01j]\n",
            " [-0.43489943+0.00000000e+00j  0.        +9.00479032e-01j]\n",
            " [-0.40625585+0.00000000e+00j  0.        +9.13759368e-01j]\n",
            " [-0.37720731+0.00000000e+00j  0.        +9.26128849e-01j]\n",
            " [-0.34778276+0.00000000e+00j  0.        +9.37575144e-01j]\n",
            " [-0.31801154+0.00000000e+00j  0.        +9.48086844e-01j]\n",
            " [-0.28792331+0.00000000e+00j  0.        +9.57653470e-01j]\n",
            " [-0.25754807+0.00000000e+00j  0.        +9.66265486e-01j]\n",
            " [-0.22691611+0.00000000e+00j  0.        +9.73914308e-01j]\n",
            " [-0.19605795+0.00000000e+00j  0.        +9.80592311e-01j]\n",
            " [-0.16500435+0.00000000e+00j  0.        +9.86292838e-01j]\n",
            " [-0.13378628+0.00000000e+00j  0.        +9.91010207e-01j]\n",
            " [-0.10243484+0.00000000e+00j  0.        +9.94739716e-01j]\n",
            " [-0.0709813 +0.00000000e+00j  0.        +9.97477646e-01j]\n",
            " [-0.039457  +0.00000000e+00j  0.        +9.99221269e-01j]\n",
            " [-0.00789337+0.00000000e+00j  0.        +9.99968847e-01j]\n",
            " [ 0.02367813+0.00000000e+00j  0.        +9.99719634e-01j]\n",
            " [ 0.05522603+0.00000000e+00j  0.        +9.98473878e-01j]\n",
            " [ 0.08671888+0.00000000e+00j  0.        +9.96232822e-01j]\n",
            " [ 0.11812528+0.00000000e+00j  0.        +9.92998700e-01j]\n",
            " [ 0.14941394+0.00000000e+00j  0.        +9.88774735e-01j]\n",
            " [ 0.18055365+0.00000000e+00j  0.        +9.83565137e-01j]\n",
            " [ 0.21151339+0.00000000e+00j  0.        +9.77375101e-01j]\n",
            " [ 0.24226228+0.00000000e+00j  0.        +9.70210796e-01j]\n",
            " [ 0.27276968+0.00000000e+00j  0.        +9.62079363e-01j]\n",
            " [ 0.30300518+0.00000000e+00j  0.        +9.52988909e-01j]\n",
            " [ 0.33293864+0.00000000e+00j  0.        +9.42948495e-01j]\n",
            " [ 0.36254021+0.00000000e+00j  0.        +9.31968129e-01j]\n",
            " [ 0.3917804 +0.00000000e+00j  0.        +9.20058757e-01j]\n",
            " [ 0.42063005+0.00000000e+00j  0.        +9.07232251e-01j]\n",
            " [ 0.44906041+0.00000000e+00j  0.        +8.93501396e-01j]\n",
            " [ 0.47704314+0.00000000e+00j  0.        +8.78879879e-01j]\n",
            " [ 0.50455034+0.00000000e+00j  0.        +8.63382275e-01j]\n",
            " [ 0.53155459+0.00000000e+00j  0.        +8.47024034e-01j]\n",
            " [ 0.55802898+0.00000000e+00j  0.        +8.29821460e-01j]\n",
            " [ 0.58394711+0.00000000e+00j  0.        +8.11791702e-01j]\n",
            " [ 0.60928316+0.00000000e+00j  0.        +7.92952733e-01j]\n",
            " [ 0.63401185+0.00000000e+00j  0.        +7.73323331e-01j]\n",
            " [ 0.65810855+0.00000000e+00j  0.        +7.52923064e-01j]\n",
            " [ 0.68154923+0.00000000e+00j  0.        +7.31772266e-01j]\n",
            " [ 0.70431053+0.00000000e+00j  0.        +7.09892022e-01j]\n",
            " [ 0.72636975+0.00000000e+00j  0.        +6.87304143e-01j]\n",
            " [ 0.74770492+0.00000000e+00j  0.        +6.64031143e-01j]\n",
            " [ 0.76829475+0.00000000e+00j  0.        +6.40096223e-01j]\n",
            " [ 0.78811873+0.00000000e+00j  0.        +6.15523241e-01j]\n",
            " [ 0.8071571 +0.00000000e+00j  0.        +5.90336692e-01j]\n",
            " [ 0.82539088+0.00000000e+00j  0.        +5.64561683e-01j]\n",
            " [ 0.84280189+0.00000000e+00j  0.        +5.38223906e-01j]\n",
            " [ 0.85937278+0.00000000e+00j  0.        +5.11349616e-01j]\n",
            " [ 0.87508702+0.00000000e+00j  0.        +4.83965601e-01j]\n",
            " [ 0.88992896+0.00000000e+00j  0.        +4.56099159e-01j]\n",
            " [ 0.9038838 +0.00000000e+00j  0.        +4.27778068e-01j]\n",
            " [ 0.91693763+0.00000000e+00j  0.        +3.99030558e-01j]\n",
            " [ 0.92907743+0.00000000e+00j  0.        +3.69885285e-01j]\n",
            " [ 0.94029111+0.00000000e+00j  0.        +3.40371303e-01j]\n",
            " [ 0.95056749+0.00000000e+00j  0.        +3.10518032e-01j]\n",
            " [ 0.95989632+0.00000000e+00j  0.        +2.80355229e-01j]\n",
            " [ 0.96826831+0.00000000e+00j  0.        +2.49912962e-01j]\n",
            " [ 0.9756751 +0.00000000e+00j  0.        +2.19221577e-01j]\n",
            " [ 0.98210932+0.00000000e+00j  0.        +1.88311666e-01j]\n",
            " [ 0.98756455+0.00000000e+00j  0.        +1.57214043e-01j]\n",
            " [ 0.99203536+0.00000000e+00j  0.        +1.25959705e-01j]\n",
            " [ 0.99551728+0.00000000e+00j  0.        +9.45798078e-02j]\n",
            " [ 0.99800685+0.00000000e+00j  0.        +6.31056313e-02j]\n",
            " [ 0.99950159+0.00000000e+00j  0.        +3.15685498e-02j]\n",
            " [ 1.        +0.00000000e+00j  0.        +2.44929360e-16j]]\n"
          ]
        }
      ],
      "source": [
        "dev = qml.device(\"default.qubit\", wires=1)\n",
        "\n",
        "\n",
        "@qml.qnode(dev)\n",
        "def apply_rx(theta, state):\n",
        "    \"\"\"Apply an RX gate with an angle of theta to a particular basis state.\n",
        "\n",
        "    Args:\n",
        "        theta (float): A rotation angle.\n",
        "        state (int): Either 0 or 1. If 1, initialize the qubit to state |1>\n",
        "            before applying other operations.\n",
        "\n",
        "    Returns:\n",
        "        np.array[complex]: The state of the qubit after the operations.\n",
        "    \"\"\"\n",
        "    if state == 1:\n",
        "        qml.PauliX(wires=0)\n",
        "\n",
        "    ##################\n",
        "    # YOUR CODE HERE #\n",
        "    ##################\n",
        "\n",
        "    # APPLY RX(theta) AND RETURN THE STATE\n",
        "    qml.RX(theta, wires = 0)\n",
        "\n",
        "    return qml.state()\n",
        "\n",
        "\n",
        "# Code for plotting\n",
        "angles = np.linspace(0, 4 * np.pi, 200)\n",
        "output_states = np.array([apply_rx(t, 0) for t in angles])\n",
        "\n",
        "# plot = plotter(angles, output_states)\n",
        "print(output_states)"
      ]
    },
    {
      "cell_type": "markdown",
      "metadata": {
        "id": "4B2JVJMlRZkV"
      },
      "source": [
        "### I.6.3 - Plotting RY"
      ]
    },
    {
      "cell_type": "code",
      "execution_count": null,
      "metadata": {
        "colab": {
          "base_uri": "https://localhost:8080/"
        },
        "id": "_ZJ3hS-KRURz",
        "outputId": "f1b67b8a-2946-4222-f003-b52c9a314fdb"
      },
      "outputs": [
        {
          "name": "stdout",
          "output_type": "stream",
          "text": [
            "[[ 1.00000000e+00+0.j  0.00000000e+00+0.j]\n",
            " [ 9.99501589e-01+0.j  3.15685498e-02+0.j]\n",
            " [ 9.98006853e-01+0.j  6.31056313e-02+0.j]\n",
            " [ 9.95517283e-01+0.j  9.45798078e-02+0.j]\n",
            " [ 9.92035359e-01+0.j  1.25959705e-01+0.j]\n",
            " [ 9.87564552e-01+0.j  1.57214043e-01+0.j]\n",
            " [ 9.82109320e-01+0.j  1.88311666e-01+0.j]\n",
            " [ 9.75675100e-01+0.j  2.19221577e-01+0.j]\n",
            " [ 9.68268305e-01+0.j  2.49912962e-01+0.j]\n",
            " [ 9.59896320e-01+0.j  2.80355229e-01+0.j]\n",
            " [ 9.50567489e-01+0.j  3.10518032e-01+0.j]\n",
            " [ 9.40291112e-01+0.j  3.40371303e-01+0.j]\n",
            " [ 9.29077433e-01+0.j  3.69885285e-01+0.j]\n",
            " [ 9.16937628e-01+0.j  3.99030558e-01+0.j]\n",
            " [ 9.03883800e-01+0.j  4.27778068e-01+0.j]\n",
            " [ 8.89928962e-01+0.j  4.56099159e-01+0.j]\n",
            " [ 8.75087022e-01+0.j  4.83965601e-01+0.j]\n",
            " [ 8.59372777e-01+0.j  5.11349616e-01+0.j]\n",
            " [ 8.42801891e-01+0.j  5.38223906e-01+0.j]\n",
            " [ 8.25390881e-01+0.j  5.64561683e-01+0.j]\n",
            " [ 8.07157104e-01+0.j  5.90336692e-01+0.j]\n",
            " [ 7.88118735e-01+0.j  6.15523241e-01+0.j]\n",
            " [ 7.68294752e-01+0.j  6.40096223e-01+0.j]\n",
            " [ 7.47704916e-01+0.j  6.64031143e-01+0.j]\n",
            " [ 7.26369751e-01+0.j  6.87304143e-01+0.j]\n",
            " [ 7.04310526e-01+0.j  7.09892022e-01+0.j]\n",
            " [ 6.81549228e-01+0.j  7.31772266e-01+0.j]\n",
            " [ 6.58108547e-01+0.j  7.52923064e-01+0.j]\n",
            " [ 6.34011850e-01+0.j  7.73323331e-01+0.j]\n",
            " [ 6.09283155e-01+0.j  7.92952733e-01+0.j]\n",
            " [ 5.83947114e-01+0.j  8.11791702e-01+0.j]\n",
            " [ 5.58028982e-01+0.j  8.29821460e-01+0.j]\n",
            " [ 5.31554594e-01+0.j  8.47024034e-01+0.j]\n",
            " [ 5.04550341e-01+0.j  8.63382275e-01+0.j]\n",
            " [ 4.77043141e-01+0.j  8.78879879e-01+0.j]\n",
            " [ 4.49060414e-01+0.j  8.93501396e-01+0.j]\n",
            " [ 4.20630055e-01+0.j  9.07232251e-01+0.j]\n",
            " [ 3.91780402e-01+0.j  9.20058757e-01+0.j]\n",
            " [ 3.62540213e-01+0.j  9.31968129e-01+0.j]\n",
            " [ 3.32938637e-01+0.j  9.42948495e-01+0.j]\n",
            " [ 3.03005180e-01+0.j  9.52988909e-01+0.j]\n",
            " [ 2.72769681e-01+0.j  9.62079363e-01+0.j]\n",
            " [ 2.42262280e-01+0.j  9.70210796e-01+0.j]\n",
            " [ 2.11513386e-01+0.j  9.77375101e-01+0.j]\n",
            " [ 1.80553651e-01+0.j  9.83565137e-01+0.j]\n",
            " [ 1.49413936e-01+0.j  9.88774735e-01+0.j]\n",
            " [ 1.18125282e-01+0.j  9.92998700e-01+0.j]\n",
            " [ 8.67188782e-02+0.j  9.96232822e-01+0.j]\n",
            " [ 5.52260311e-02+0.j  9.98473878e-01+0.j]\n",
            " [ 2.36781335e-02+0.j  9.99719634e-01+0.j]\n",
            " [-7.89336691e-03+0.j  9.99968847e-01+0.j]\n",
            " [-3.94569991e-02+0.j  9.99221269e-01+0.j]\n",
            " [-7.09812996e-02+0.j  9.97477646e-01+0.j]\n",
            " [-1.02434845e-01+0.j  9.94739716e-01+0.j]\n",
            " [-1.33786280e-01+0.j  9.91010207e-01+0.j]\n",
            " [-1.65004355e-01+0.j  9.86292838e-01+0.j]\n",
            " [-1.96057949e-01+0.j  9.80592311e-01+0.j]\n",
            " [-2.26916109e-01+0.j  9.73914308e-01+0.j]\n",
            " [-2.57548074e-01+0.j  9.66265486e-01+0.j]\n",
            " [-2.87923309e-01+0.j  9.57653470e-01+0.j]\n",
            " [-3.18011536e-01+0.j  9.48086844e-01+0.j]\n",
            " [-3.47782763e-01+0.j  9.37575144e-01+0.j]\n",
            " [-3.77207311e-01+0.j  9.26128849e-01+0.j]\n",
            " [-4.06255852e-01+0.j  9.13759368e-01+0.j]\n",
            " [-4.34899428e-01+0.j  9.00479032e-01+0.j]\n",
            " [-4.63109486e-01+0.j  8.86301080e-01+0.j]\n",
            " [-4.90857907e-01+0.j  8.71239643e-01+0.j]\n",
            " [-5.18117030e-01+0.j  8.55309735e-01+0.j]\n",
            " [-5.44859683e-01+0.j  8.38527236e-01+0.j]\n",
            " [-5.71059208e-01+0.j  8.20908875e-01+0.j]\n",
            " [-5.96689488e-01+0.j  8.02472214e-01+0.j]\n",
            " [-6.21724976e-01+0.j  7.83235632e-01+0.j]\n",
            " [-6.46140714e-01+0.j  7.63218303e-01+0.j]\n",
            " [-6.69912366e-01+0.j  7.42440181e-01+0.j]\n",
            " [-6.93016234e-01+0.j  7.20921979e-01+0.j]\n",
            " [-7.15429288e-01+0.j  6.98685146e-01+0.j]\n",
            " [-7.37129188e-01+0.j  6.75751849e-01+0.j]\n",
            " [-7.58094300e-01+0.j  6.52144947e-01+0.j]\n",
            " [-7.78303728e-01+0.j  6.27887973e-01+0.j]\n",
            " [-7.97737326e-01+0.j  6.03005107e-01+0.j]\n",
            " [-8.16375721e-01+0.j  5.77521152e-01+0.j]\n",
            " [-8.34200336e-01+0.j  5.51461512e-01+0.j]\n",
            " [-8.51193402e-01+0.j  5.24852163e-01+0.j]\n",
            " [-8.67337979e-01+0.j  4.97719629e-01+0.j]\n",
            " [-8.82617976e-01+0.j  4.70090958e-01+0.j]\n",
            " [-8.97018159e-01+0.j  4.41993691e-01+0.j]\n",
            " [-9.10524175e-01+0.j  4.13455834e-01+0.j]\n",
            " [-9.23122561e-01+0.j  3.84505835e-01+0.j]\n",
            " [-9.34800758e-01+0.j  3.55172553e-01+0.j]\n",
            " [-9.45547126e-01+0.j  3.25485227e-01+0.j]\n",
            " [-9.55350952e-01+0.j  2.95473450e-01+0.j]\n",
            " [-9.64202463e-01+0.j  2.65167138e-01+0.j]\n",
            " [-9.72092836e-01+0.j  2.34596503e-01+0.j]\n",
            " [-9.79014205e-01+0.j  2.03792016e-01+0.j]\n",
            " [-9.84959672e-01+0.j  1.72784385e-01+0.j]\n",
            " [-9.89923310e-01+0.j  1.41604519e-01+0.j]\n",
            " [-9.93900171e-01+0.j  1.10283499e-01+0.j]\n",
            " [-9.96886290e-01+0.j  7.88525454e-02+0.j]\n",
            " [-9.98878692e-01+0.j  4.73429900e-02+0.j]\n",
            " [-9.99875390e-01+0.j  1.57862420e-02+0.j]\n",
            " [-9.99875390e-01+0.j -1.57862420e-02+0.j]\n",
            " [-9.98878692e-01+0.j -4.73429900e-02+0.j]\n",
            " [-9.96886290e-01+0.j -7.88525454e-02+0.j]\n",
            " [-9.93900171e-01+0.j -1.10283499e-01+0.j]\n",
            " [-9.89923310e-01+0.j -1.41604519e-01+0.j]\n",
            " [-9.84959672e-01+0.j -1.72784385e-01+0.j]\n",
            " [-9.79014205e-01+0.j -2.03792016e-01+0.j]\n",
            " [-9.72092836e-01+0.j -2.34596503e-01+0.j]\n",
            " [-9.64202463e-01+0.j -2.65167138e-01+0.j]\n",
            " [-9.55350952e-01+0.j -2.95473450e-01+0.j]\n",
            " [-9.45547126e-01+0.j -3.25485227e-01+0.j]\n",
            " [-9.34800758e-01+0.j -3.55172553e-01+0.j]\n",
            " [-9.23122561e-01+0.j -3.84505835e-01+0.j]\n",
            " [-9.10524175e-01+0.j -4.13455834e-01+0.j]\n",
            " [-8.97018159e-01+0.j -4.41993691e-01+0.j]\n",
            " [-8.82617976e-01+0.j -4.70090958e-01+0.j]\n",
            " [-8.67337979e-01+0.j -4.97719629e-01+0.j]\n",
            " [-8.51193402e-01+0.j -5.24852163e-01+0.j]\n",
            " [-8.34200336e-01+0.j -5.51461512e-01+0.j]\n",
            " [-8.16375721e-01+0.j -5.77521152e-01+0.j]\n",
            " [-7.97737326e-01+0.j -6.03005107e-01+0.j]\n",
            " [-7.78303728e-01+0.j -6.27887973e-01+0.j]\n",
            " [-7.58094300e-01+0.j -6.52144947e-01+0.j]\n",
            " [-7.37129188e-01+0.j -6.75751849e-01+0.j]\n",
            " [-7.15429288e-01+0.j -6.98685146e-01+0.j]\n",
            " [-6.93016234e-01+0.j -7.20921979e-01+0.j]\n",
            " [-6.69912366e-01+0.j -7.42440181e-01+0.j]\n",
            " [-6.46140714e-01+0.j -7.63218303e-01+0.j]\n",
            " [-6.21724976e-01+0.j -7.83235632e-01+0.j]\n",
            " [-5.96689488e-01+0.j -8.02472214e-01+0.j]\n",
            " [-5.71059208e-01+0.j -8.20908875e-01+0.j]\n",
            " [-5.44859683e-01+0.j -8.38527236e-01+0.j]\n",
            " [-5.18117030e-01+0.j -8.55309735e-01+0.j]\n",
            " [-4.90857907e-01+0.j -8.71239643e-01+0.j]\n",
            " [-4.63109486e-01+0.j -8.86301080e-01+0.j]\n",
            " [-4.34899428e-01+0.j -9.00479032e-01+0.j]\n",
            " [-4.06255852e-01+0.j -9.13759368e-01+0.j]\n",
            " [-3.77207311e-01+0.j -9.26128849e-01+0.j]\n",
            " [-3.47782763e-01+0.j -9.37575144e-01+0.j]\n",
            " [-3.18011536e-01+0.j -9.48086844e-01+0.j]\n",
            " [-2.87923309e-01+0.j -9.57653470e-01+0.j]\n",
            " [-2.57548074e-01+0.j -9.66265486e-01+0.j]\n",
            " [-2.26916109e-01+0.j -9.73914308e-01+0.j]\n",
            " [-1.96057949e-01+0.j -9.80592311e-01+0.j]\n",
            " [-1.65004355e-01+0.j -9.86292838e-01+0.j]\n",
            " [-1.33786280e-01+0.j -9.91010207e-01+0.j]\n",
            " [-1.02434845e-01+0.j -9.94739716e-01+0.j]\n",
            " [-7.09812996e-02+0.j -9.97477646e-01+0.j]\n",
            " [-3.94569991e-02+0.j -9.99221269e-01+0.j]\n",
            " [-7.89336691e-03+0.j -9.99968847e-01+0.j]\n",
            " [ 2.36781335e-02+0.j -9.99719634e-01+0.j]\n",
            " [ 5.52260311e-02+0.j -9.98473878e-01+0.j]\n",
            " [ 8.67188782e-02+0.j -9.96232822e-01+0.j]\n",
            " [ 1.18125282e-01+0.j -9.92998700e-01+0.j]\n",
            " [ 1.49413936e-01+0.j -9.88774735e-01+0.j]\n",
            " [ 1.80553651e-01+0.j -9.83565137e-01+0.j]\n",
            " [ 2.11513386e-01+0.j -9.77375101e-01+0.j]\n",
            " [ 2.42262280e-01+0.j -9.70210796e-01+0.j]\n",
            " [ 2.72769681e-01+0.j -9.62079363e-01+0.j]\n",
            " [ 3.03005180e-01+0.j -9.52988909e-01+0.j]\n",
            " [ 3.32938637e-01+0.j -9.42948495e-01+0.j]\n",
            " [ 3.62540213e-01+0.j -9.31968129e-01+0.j]\n",
            " [ 3.91780402e-01+0.j -9.20058757e-01+0.j]\n",
            " [ 4.20630055e-01+0.j -9.07232251e-01+0.j]\n",
            " [ 4.49060414e-01+0.j -8.93501396e-01+0.j]\n",
            " [ 4.77043141e-01+0.j -8.78879879e-01+0.j]\n",
            " [ 5.04550341e-01+0.j -8.63382275e-01+0.j]\n",
            " [ 5.31554594e-01+0.j -8.47024034e-01+0.j]\n",
            " [ 5.58028982e-01+0.j -8.29821460e-01+0.j]\n",
            " [ 5.83947114e-01+0.j -8.11791702e-01+0.j]\n",
            " [ 6.09283155e-01+0.j -7.92952733e-01+0.j]\n",
            " [ 6.34011850e-01+0.j -7.73323331e-01+0.j]\n",
            " [ 6.58108547e-01+0.j -7.52923064e-01+0.j]\n",
            " [ 6.81549228e-01+0.j -7.31772266e-01+0.j]\n",
            " [ 7.04310526e-01+0.j -7.09892022e-01+0.j]\n",
            " [ 7.26369751e-01+0.j -6.87304143e-01+0.j]\n",
            " [ 7.47704916e-01+0.j -6.64031143e-01+0.j]\n",
            " [ 7.68294752e-01+0.j -6.40096223e-01+0.j]\n",
            " [ 7.88118735e-01+0.j -6.15523241e-01+0.j]\n",
            " [ 8.07157104e-01+0.j -5.90336692e-01+0.j]\n",
            " [ 8.25390881e-01+0.j -5.64561683e-01+0.j]\n",
            " [ 8.42801891e-01+0.j -5.38223906e-01+0.j]\n",
            " [ 8.59372777e-01+0.j -5.11349616e-01+0.j]\n",
            " [ 8.75087022e-01+0.j -4.83965601e-01+0.j]\n",
            " [ 8.89928962e-01+0.j -4.56099159e-01+0.j]\n",
            " [ 9.03883800e-01+0.j -4.27778068e-01+0.j]\n",
            " [ 9.16937628e-01+0.j -3.99030558e-01+0.j]\n",
            " [ 9.29077433e-01+0.j -3.69885285e-01+0.j]\n",
            " [ 9.40291112e-01+0.j -3.40371303e-01+0.j]\n",
            " [ 9.50567489e-01+0.j -3.10518032e-01+0.j]\n",
            " [ 9.59896320e-01+0.j -2.80355229e-01+0.j]\n",
            " [ 9.68268305e-01+0.j -2.49912962e-01+0.j]\n",
            " [ 9.75675100e-01+0.j -2.19221577e-01+0.j]\n",
            " [ 9.82109320e-01+0.j -1.88311666e-01+0.j]\n",
            " [ 9.87564552e-01+0.j -1.57214043e-01+0.j]\n",
            " [ 9.92035359e-01+0.j -1.25959705e-01+0.j]\n",
            " [ 9.95517283e-01+0.j -9.45798078e-02+0.j]\n",
            " [ 9.98006853e-01+0.j -6.31056313e-02+0.j]\n",
            " [ 9.99501589e-01+0.j -3.15685498e-02+0.j]\n",
            " [ 1.00000000e+00+0.j -2.44929360e-16+0.j]]\n"
          ]
        }
      ],
      "source": [
        "dev = qml.device(\"default.qubit\", wires=1)\n",
        "\n",
        "\n",
        "@qml.qnode(dev)\n",
        "def apply_ry(theta, state):\n",
        "    \"\"\"Apply an RY gate with an angle of theta to a particular basis state.\n",
        "\n",
        "    Args:\n",
        "        theta (float): A rotation angle.\n",
        "        state (int): Either 0 or 1. If 1, initialize the qubit to state |1>\n",
        "            before applying other operations.\n",
        "\n",
        "    Returns:\n",
        "        np.array[complex]: The state of the qubit after the operations.\n",
        "    \"\"\"\n",
        "    if state == 1:\n",
        "        qml.PauliX(wires=0)\n",
        "\n",
        "    ##################\n",
        "    # YOUR CODE HERE #\n",
        "    ##################\n",
        "\n",
        "    # APPLY RY(theta) AND RETURN THE STATE\n",
        "    qml.RY(theta, wires = 0)\n",
        "\n",
        "    return qml.state()\n",
        "\n",
        "\n",
        "# Code for plotting\n",
        "angles = np.linspace(0, 4 * np.pi, 200)\n",
        "output_states = np.array([apply_ry(t, 0) for t in angles])\n",
        "\n",
        "# plot = plotter(angles, output_states)\n",
        "print(output_states)\n"
      ]
    },
    {
      "cell_type": "markdown",
      "metadata": {
        "id": "p_rrc2VmS51H"
      },
      "source": [
        "## 4. Universal Gate Sets\n"
      ]
    },
    {
      "cell_type": "markdown",
      "metadata": {
        "id": "-CWvJysLiUT6"
      },
      "source": [
        "### I.7.1 - Universality of rotations"
      ]
    },
    {
      "cell_type": "code",
      "execution_count": null,
      "metadata": {
        "colab": {
          "base_uri": "https://localhost:8080/"
        },
        "id": "zjtzggGxTDIX",
        "outputId": "b945f9a1-8c9f-4681-b573-46dd3480b34e"
      },
      "outputs": [
        {
          "name": "stdout",
          "output_type": "stream",
          "text": [
            "[1.11022302e-16-0.70710678j 0.00000000e+00-0.70710678j]\n"
          ]
        }
      ],
      "source": [
        "dev = qml.device(\"default.qubit\", wires=1)\n",
        "\n",
        "##################\n",
        "# YOUR CODE HERE #\n",
        "##################\n",
        "\n",
        "def deg2rad(degrees):\n",
        "        return degrees * 0.017453292519943295  # This is π/180 pre-calculated\n",
        "\n",
        "# ADJUST THE VALUES OF PHI, THETA, AND OMEGA\n",
        "phi, theta, omega = deg2rad(90), deg2rad(90), deg2rad(90)\n",
        "\n",
        "\n",
        "@qml.qnode(dev)\n",
        "def hadamard_with_rz_rx():\n",
        "    qml.RZ(phi, wires=0)\n",
        "    qml.RX(theta, wires=0)\n",
        "    qml.RZ(omega, wires=0)\n",
        "    return qml.state()\n",
        "\n",
        "print(hadamard_with_rz_rx())"
      ]
    },
    {
      "cell_type": "markdown",
      "metadata": {
        "id": "qcc04YnSoMGJ"
      },
      "source": [
        "### I.7.2 - Synthesizing a circuit\n",
        "\n"
      ]
    },
    {
      "cell_type": "code",
      "execution_count": null,
      "metadata": {
        "colab": {
          "base_uri": "https://localhost:8080/"
        },
        "id": "PEWOOxQzpCfU",
        "outputId": "438b7edb-433a-495b-c35a-02e60b328ae0"
      },
      "outputs": [
        {
          "name": "stdout",
          "output_type": "stream",
          "text": [
            "\u001b[2K   \u001b[90m━━━━━━━━━━━━━━━━━━━━━━━━━━━━━━━━━━━━━━━━\u001b[0m \u001b[32m4.3/4.3 MB\u001b[0m \u001b[31m15.5 MB/s\u001b[0m eta \u001b[36m0:00:00\u001b[0m\n",
            "\u001b[2K   \u001b[90m━━━━━━━━━━━━━━━━━━━━━━━━━━━━━━━━━━━━━━━━\u001b[0m \u001b[32m116.3/116.3 kB\u001b[0m \u001b[31m8.1 MB/s\u001b[0m eta \u001b[36m0:00:00\u001b[0m\n",
            "\u001b[2K   \u001b[90m━━━━━━━━━━━━━━━━━━━━━━━━━━━━━━━━━━━━━━━━\u001b[0m \u001b[32m49.7/49.7 kB\u001b[0m \u001b[31m3.2 MB/s\u001b[0m eta \u001b[36m0:00:00\u001b[0m\n",
            "\u001b[2K   \u001b[90m━━━━━━━━━━━━━━━━━━━━━━━━━━━━━━━━━━━━━━━━\u001b[0m \u001b[32m39.4/39.4 MB\u001b[0m \u001b[31m17.8 MB/s\u001b[0m eta \u001b[36m0:00:00\u001b[0m\n",
            "\u001b[2K   \u001b[90m━━━━━━━━━━━━━━━━━━━━━━━━━━━━━━━━━━━━━━━━\u001b[0m \u001b[32m107.5/107.5 kB\u001b[0m \u001b[31m5.5 MB/s\u001b[0m eta \u001b[36m0:00:00\u001b[0m\n",
            "\u001b[?25h"
          ]
        }
      ],
      "source": [
        "!pip install qiskit -q"
      ]
    },
    {
      "cell_type": "code",
      "execution_count": null,
      "metadata": {
        "colab": {
          "base_uri": "https://localhost:8080/",
          "height": 423
        },
        "id": "uBv2_ba24t8j",
        "outputId": "9d51cbea-2ec3-404f-a0aa-95fbbcc1b0c0"
      },
      "outputs": [
        {
          "data": {
            "image/png": "[encoded data removed]",
            "text/plain": [
              "<Figure size 480x480 with 1 Axes>"
            ]
          },
          "execution_count": 27,
          "metadata": {},
          "output_type": "execute_result"
        }
      ],
      "source": [
        "from qiskit import *\n",
        "# from qiskit_aer import Aer\n",
        "import numpy as np\n",
        "from qiskit.quantum_info import Statevector\n",
        "from qiskit.visualization import plot_histogram, plot_bloch_multivector, array_to_latex\n",
        "%matplotlib inline\n",
        "from math import pi\n",
        "import warnings\n",
        "warnings.filterwarnings('ignore')\n",
        "# Create a quantum circuit with 1 qubit\n",
        "qc = QuantumCircuit(1)\n",
        "\n",
        "qc.h(0)\n",
        "qc.s(0)\n",
        "qc.tdg(0)\n",
        "qc.y(0)\n",
        "\n",
        "state = Statevector(qc)\n",
        "plot_bloch_multivector(state)"
      ]
    },
    {
      "cell_type": "code",
      "execution_count": null,
      "metadata": {
        "colab": {
          "base_uri": "https://localhost:8080/",
          "height": 79
        },
        "id": "l_55_MJVOsJc",
        "outputId": "d254bc3b-ee66-4227-a9eb-21003cb64472"
      },
      "outputs": [
        {
          "data": {
            "text/html": [
              "<pre style=\"word-wrap: normal;white-space: pre;background: #fff0;line-height: 1.1;font-family: &quot;Courier New&quot;,Courier,monospace\">global phase: 9π/8\n",
              "   ┌──────────┐┌─────────┐┌───────────┐\n",
              "q: ┤ Rz(-π/2) ├┤ Rx(π/2) ├┤ Rz(-3π/4) ├\n",
              "   └──────────┘└─────────┘└───────────┘</pre>"
            ],
            "text/plain": [
              "global phase: 9π/8\n",
              "   ┌──────────┐┌─────────┐┌───────────┐\n",
              "q: ┤ Rz(-π/2) ├┤ Rx(π/2) ├┤ Rz(-3π/4) ├\n",
              "   └──────────┘└─────────┘└───────────┘"
            ]
          },
          "execution_count": 28,
          "metadata": {},
          "output_type": "execute_result"
        }
      ],
      "source": [
        "# Cheating using decomposition with qiskit\n",
        "from qiskit import transpile\n",
        "from qiskit.circuit import Parameter\n",
        "\n",
        "qc = QuantumCircuit(1)\n",
        "qc.h(0)\n",
        "qc.t(0)\n",
        "qc.y(0)\n",
        "\n",
        "rx_rz_basis = transpile(qc, basis_gates=['rx', 'rz'])\n",
        "rx_rz_basis.draw()\n"
      ]
    },
    {
      "cell_type": "code",
      "execution_count": null,
      "metadata": {
        "colab": {
          "base_uri": "https://localhost:8080/"
        },
        "id": "09JIVBckkWSY",
        "outputId": "011ca049-c7f9-417f-c06b-45d85665a497"
      },
      "outputs": [
        {
          "name": "stdout",
          "output_type": "stream",
          "text": [
            "[-0.27059805+0.65328148j -0.27059805-0.65328148j]\n"
          ]
        }
      ],
      "source": [
        "dev = qml.device(\"default.qubit\", wires=1)\n",
        "\n",
        "\n",
        "@qml.qnode(dev)\n",
        "def convert_to_rz_rx():\n",
        "    # def deg2rad(degrees):\n",
        "    #     return degrees * 0.017453292519943295  # This is π/180 pre-calculated\n",
        "\n",
        "    ##################\n",
        "    # YOUR CODE HERE #\n",
        "    ##################\n",
        "\n",
        "    # IMPLEMENT THE CIRCUIT IN THE PICTURE USING ONLY RZ AND RX\n",
        "    # qml.Hadamard(wires=0)\n",
        "    # qml.T(wires=0)\n",
        "    # qml.Y(wires=0)\n",
        "\n",
        "    qml.RZ(-np.pi/2, 0)\n",
        "    qml.RX(np.pi/2, 0)\n",
        "    qml.RZ(-3*np.pi/4, 0)\n",
        "    # qml.Y(wires = 0)\n",
        "\n",
        "\n",
        "\n",
        "    return qml.state()\n",
        "\n",
        "\n",
        "print(convert_to_rz_rx())"
      ]
    },
    {
      "cell_type": "markdown",
      "metadata": {
        "id": "4JZ7ixk_6jFn"
      },
      "source": [
        "### I.7.3 - Universality of H and T"
      ]
    },
    {
      "cell_type": "code",
      "execution_count": null,
      "metadata": {
        "colab": {
          "base_uri": "https://localhost:8080/"
        },
        "id": "-zGb578u4Ygy",
        "outputId": "69e61a05-ed0b-49d9-9064-22866247e07a"
      },
      "outputs": [
        {
          "name": "stdout",
          "output_type": "stream",
          "text": [
            "[0.85355339+0.35355339j 0.35355339+0.14644661j]\n"
          ]
        }
      ],
      "source": [
        "dev = qml.device(\"default.qubit\", wires=1)\n",
        "\n",
        "\n",
        "@qml.qnode(dev)\n",
        "def unitary_with_h_and_t():\n",
        "    ##################\n",
        "    # YOUR CODE HERE #\n",
        "    ##################\n",
        "\n",
        "    # APPLY ONLY H AND T TO PRODUCE A CIRCUIT THAT EFFECTS THE GIVEN MATRIX\n",
        "\n",
        "    qml.Hadamard(wires=0)\n",
        "    qml.T(wires=0)\n",
        "    qml.Hadamard(wires=0)\n",
        "    qml.T(wires=0)\n",
        "    qml.T(wires=0)\n",
        "    qml.Hadamard(wires=0)\n",
        "    # qml.T(wires=0)\n",
        "\n",
        "    return qml.state()\n",
        "\n",
        "print(unitary_with_h_and_t())"
      ]
    },
    {
      "cell_type": "markdown",
      "metadata": {
        "id": "O6EJ6CxfGPFD"
      },
      "source": [
        "## 5. Prepare Yourself\n"
      ]
    },
    {
      "cell_type": "markdown",
      "metadata": {
        "id": "Obo8LehXGRIQ"
      },
      "source": [
        "### I.8.1 - State preparation"
      ]
    },
    {
      "cell_type": "code",
      "execution_count": null,
      "metadata": {
        "colab": {
          "base_uri": "https://localhost:8080/"
        },
        "id": "-PDJaR_e7Ptd",
        "outputId": "df10c0ab-f4d4-4881-c55d-043a61a1fb91"
      },
      "outputs": [
        {
          "name": "stdout",
          "output_type": "stream",
          "text": [
            "[ 0.70710678+0.j  -0.5       -0.5j]\n"
          ]
        }
      ],
      "source": [
        "dev = qml.device(\"default.qubit\", wires=1)\n",
        "\n",
        "\n",
        "@qml.qnode(dev)\n",
        "def prepare_state():\n",
        "    ##################\n",
        "    # YOUR CODE HERE #\n",
        "    ##################\n",
        "\n",
        "    # APPLY OPERATIONS TO PREPARE THE TARGET STATE\n",
        "    # qml.RY(np.pi/2, wires = 0)\n",
        "    qml.Hadamard(wires = 0)\n",
        "    for i in range(5):\n",
        "        qml.T(wires = 0)\n",
        "\n",
        "    return qml.state()\n",
        "print(prepare_state())"
      ]
    },
    {
      "cell_type": "markdown",
      "metadata": {
        "id": "V9Qx-EEbK5MM"
      },
      "source": [
        "### I.8.2 - State preparation re."
      ]
    },
    {
      "cell_type": "code",
      "execution_count": null,
      "metadata": {
        "colab": {
          "base_uri": "https://localhost:8080/"
        },
        "id": "q4MhaL7QIbJ7",
        "outputId": "f21eade3-87b5-466b-bf29-09cb6aea6df5"
      },
      "outputs": [
        {
          "name": "stdout",
          "output_type": "stream",
          "text": [
            "[0.8660254+0.j  0.       -0.5j]\n"
          ]
        }
      ],
      "source": [
        "dev = qml.device(\"default.qubit\", wires=1)\n",
        "\n",
        "\n",
        "@qml.qnode(dev)\n",
        "def prepare_state():\n",
        "    ##################\n",
        "    # YOUR CODE HERE #\n",
        "    ##################\n",
        "\n",
        "    # APPLY OPERATIONS TO PREPARE THE TARGET STATE\n",
        "    qml.RX(np.pi/3, wires = 0)\n",
        "\n",
        "    return qml.state()\n",
        "print(prepare_state())\n"
      ]
    },
    {
      "cell_type": "markdown",
      "metadata": {
        "id": "2-DA1RZALlkW"
      },
      "source": [
        "### I.8.3 - State preparation with Mottonen's method"
      ]
    },
    {
      "cell_type": "code",
      "execution_count": null,
      "metadata": {
        "colab": {
          "base_uri": "https://localhost:8080/"
        },
        "id": "prZTVjRoLWZc",
        "outputId": "6067ec46-461c-4716-f838-a0c4f450e485"
      },
      "outputs": [
        {
          "name": "stdout",
          "output_type": "stream",
          "text": [
            "[0.52889389-0.14956775j 0.67262317+0.49545818j]\n",
            "\n",
            "0: ──RY(1.98)──RZ(0.91)──GlobalPhase(-0.18)─┤  State\n"
          ]
        }
      ],
      "source": [
        "v = np.array([0.52889389 - 0.14956775j, 0.67262317 + 0.49545818j])\n",
        "\n",
        "##################\n",
        "# YOUR CODE HERE #\n",
        "##################\n",
        "\n",
        "# CREATE A DEVICE\n",
        "\n",
        "\n",
        "# CONSTRUCT A QNODE THAT USES qml.MottonenStatePreparation\n",
        "# TO PREPARE A QUBIT IN STATE V, AND RETURN THE STATE\n",
        "\n",
        "dev = qml.device(\"default.qubit\", wires=1)\n",
        "@qml.qnode(dev)\n",
        "def prepare_state(state=v):\n",
        "    qml.MottonenStatePreparation(state, wires=0)\n",
        "\n",
        "    return qml.state()\n",
        "\n",
        "\n",
        "# This will draw the quantum circuit and allow you to inspect the output gates\n",
        "print(prepare_state(v))\n",
        "print()\n",
        "print(qml.draw(prepare_state, expansion_strategy=\"device\")(v))\n"
      ]
    },
    {
      "cell_type": "markdown",
      "metadata": {
        "id": "0oSCIO8SS93H"
      },
      "source": [
        "## 6. Measurements"
      ]
    },
    {
      "cell_type": "markdown",
      "metadata": {
        "id": "BclsuelxTOOo"
      },
      "source": [
        "### I.9.1 - Measuring a superposition"
      ]
    },
    {
      "cell_type": "code",
      "execution_count": null,
      "metadata": {
        "colab": {
          "base_uri": "https://localhost:8080/"
        },
        "id": "4i99DaY7TLA9",
        "outputId": "9fe91931-a00c-4067-87af-bd96a0a7e623"
      },
      "outputs": [
        {
          "name": "stdout",
          "output_type": "stream",
          "text": [
            "[0.5 0.5]\n",
            "[0.5 0.5]\n"
          ]
        }
      ],
      "source": [
        "dev = qml.device(\"default.qubit\", wires=1)\n",
        "\n",
        "\n",
        "@qml.qnode(dev)\n",
        "def apply_h_and_measure(state):\n",
        "    \"\"\"Complete the function such that we apply the Hadamard gate\n",
        "    and measure in the computational basis.\n",
        "\n",
        "    Args:\n",
        "        state (int): Either 0 or 1. If 1, prepare the qubit in state |1>,\n",
        "            otherwise leave it in state 0.\n",
        "\n",
        "    Returns:\n",
        "        np.array[float]: The measurement outcome probabilities.\n",
        "    \"\"\"\n",
        "    if state == 1:\n",
        "        qml.PauliX(wires=0)\n",
        "\n",
        "    ##################\n",
        "    # YOUR CODE HERE #\n",
        "    ##################\n",
        "\n",
        "    # APPLY HADAMARD AND MEASURE\n",
        "    qml.Hadamard(wires = 0)\n",
        "\n",
        "    return qml.probs(wires = 0)\n",
        "\n",
        "\n",
        "print(apply_h_and_measure(0))\n",
        "print(apply_h_and_measure(1))\n"
      ]
    },
    {
      "cell_type": "markdown",
      "metadata": {
        "id": "5K-DAKSoT3Kg"
      },
      "source": [
        "### I.9.2 - Y basis rotation"
      ]
    },
    {
      "cell_type": "code",
      "execution_count": null,
      "metadata": {
        "id": "h3iSsB50T84p"
      },
      "outputs": [],
      "source": [
        "##################\n",
        "# YOUR CODE HERE #\n",
        "##################\n",
        "\n",
        "\n",
        "# WRITE A QUANTUM FUNCTION THAT PREPARES (1/2)|0> + i(sqrt(3)/2)|1>\n",
        "def prepare_psi():\n",
        "    state = np.array([0.5, 0.866j])\n",
        "    qml.MottonenStatePreparation(state, wires=0)\n",
        "    pass\n",
        "\n",
        "\n",
        "# WRITE A QUANTUM FUNCTION THAT SENDS BOTH |0> TO |y_+> and |1> TO |y_->\n",
        "def y_basis_rotation():\n",
        "    qml.Hadamard(wires=0)\n",
        "    qml.S(wires = 0)\n",
        "    pass\n"
      ]
    },
    {
      "cell_type": "code",
      "execution_count": null,
      "metadata": {
        "colab": {
          "base_uri": "https://localhost:8080/"
        },
        "id": "I2Mfl1O5WO92",
        "outputId": "d3f6be83-534f-4df2-ef32-28690713de57"
      },
      "outputs": [
        {
          "name": "stdout",
          "output_type": "stream",
          "text": [
            "None\n",
            "None\n"
          ]
        }
      ],
      "source": [
        "print(prepare_psi())\n",
        "print(y_basis_rotation())"
      ]
    },
    {
      "cell_type": "markdown",
      "metadata": {
        "id": "NmFcKG5ztYkv"
      },
      "source": [
        "### I.9.3 - Measurement in the Y basis"
      ]
    },
    {
      "cell_type": "code",
      "execution_count": null,
      "metadata": {
        "colab": {
          "base_uri": "https://localhost:8080/"
        },
        "id": "kh0HNFSeWTd9",
        "outputId": "b20d73c6-6f30-4c1a-eb6e-e81cf4cdbe45"
      },
      "outputs": [
        {
          "name": "stdout",
          "output_type": "stream",
          "text": [
            "[0.93301905 0.06698095]\n"
          ]
        }
      ],
      "source": [
        "dev = qml.device(\"default.qubit\", wires=1)\n",
        "\n",
        "\n",
        "@qml.qnode(dev)\n",
        "def measure_in_y_basis():\n",
        "    ##################\n",
        "    # YOUR CODE HERE #\n",
        "    ##################\n",
        "\n",
        "    # PREPARE THE STATE\n",
        "    prepare_psi()\n",
        "\n",
        "\n",
        "    # PERFORM THE ROTATION BACK TO COMPUTATIONAL BASIS\n",
        "    qml.adjoint(y_basis_rotation)()\n",
        "\n",
        "\n",
        "    # RETURN THE MEASUREMENT OUTCOME PROBABILITIES\n",
        "\n",
        "    return qml.probs(wires = 0)\n",
        "\n",
        "\n",
        "print(measure_in_y_basis())\n"
      ]
    },
    {
      "cell_type": "markdown",
      "metadata": {
        "id": "8xoJeGWeLstk"
      },
      "source": [
        "## 7. What Did You Expect?\n"
      ]
    },
    {
      "cell_type": "markdown",
      "metadata": {
        "id": "QBjI_EggLwan"
      },
      "source": [
        "### I.10.1 - Measurement of the PauliY Observable"
      ]
    },
    {
      "cell_type": "code",
      "execution_count": null,
      "metadata": {
        "colab": {
          "base_uri": "https://localhost:8080/"
        },
        "id": "MI_jdJPut087",
        "outputId": "1391b208-a33f-43c0-ceaf-a6ee4218003a"
      },
      "outputs": [
        {
          "name": "stdout",
          "output_type": "stream",
          "text": [
            "-0.7071067811865471\n"
          ]
        }
      ],
      "source": [
        "dev = qml.device(\"default.qubit\", wires=1)\n",
        "\n",
        "\n",
        "@qml.qnode(dev)\n",
        "def circuit():\n",
        "    ##################\n",
        "    # YOUR CODE HERE #\n",
        "    ##################\n",
        "\n",
        "    # IMPLEMENT THE CIRCUIT IN THE PICTURE AND MEASURE PAULI Y\n",
        "    qml.RX(np.pi/4, wires = 0)\n",
        "    qml.Hadamard(wires = 0)\n",
        "    qml.Z(wires = 0)\n",
        "\n",
        "    return qml.expval(qml.PauliY(0))\n",
        "\n",
        "\n",
        "print(circuit())\n"
      ]
    },
    {
      "cell_type": "markdown",
      "metadata": {
        "id": "NeBtLCOvMujj"
      },
      "source": [
        "### I.10.2 - Setting up the number of experiment shots"
      ]
    },
    {
      "cell_type": "code",
      "execution_count": null,
      "metadata": {
        "colab": {
          "base_uri": "https://localhost:8080/"
        },
        "id": "9-GJ-lRoMkRG",
        "outputId": "a3efe00f-b51b-4e5e-ae30-9cafdade2a78"
      },
      "outputs": [
        {
          "name": "stdout",
          "output_type": "stream",
          "text": [
            "[-0.68, -0.698, -0.7098, -0.70964, -0.706178]\n"
          ]
        }
      ],
      "source": [
        "# An array to store your results\n",
        "shot_results = []\n",
        "\n",
        "# Different numbers of shots\n",
        "shot_values = [100, 1000, 10000, 100000, 1000000]\n",
        "\n",
        "for shots in shot_values:\n",
        "    ##################\n",
        "    # YOUR CODE HERE #\n",
        "    ##################\n",
        "\n",
        "    # CREATE A DEVICE, CREATE A QNODE, AND RUN IT\n",
        "    dev = qml.device(\"default.qubit\", wires=1, shots = shots)\n",
        "\n",
        "\n",
        "    @qml.qnode(dev)\n",
        "    def circuit():\n",
        "        qml.RX(np.pi/4, wires = 0)\n",
        "        qml.Hadamard(wires = 0)\n",
        "        qml.Z(wires = 0)\n",
        "\n",
        "        return qml.expval(qml.PauliY(0))\n",
        "\n",
        "    result = circuit()\n",
        "\n",
        "    # STORE RESULT IN SHOT_RESULTS ARRAY\n",
        "    shot_results.append(result)\n",
        "    pass\n",
        "\n",
        "print(qml.math.unwrap(shot_results))\n"
      ]
    },
    {
      "cell_type": "markdown",
      "metadata": {
        "id": "KD-nZW5gPEZD"
      },
      "source": [
        "### I.10.3 - Evaluating the samples"
      ]
    },
    {
      "cell_type": "code",
      "execution_count": null,
      "metadata": {
        "colab": {
          "base_uri": "https://localhost:8080/"
        },
        "id": "F0I8CWngNssw",
        "outputId": "ed9ad1de-b074-4abd-8ff8-f7b3d42e1a9d"
      },
      "outputs": [
        {
          "name": "stdout",
          "output_type": "stream",
          "text": [
            "-0.70848\n"
          ]
        }
      ],
      "source": [
        "dev = qml.device(\"default.qubit\", wires=1, shots=100000)\n",
        "\n",
        "\n",
        "@qml.qnode(dev)\n",
        "def circuit():\n",
        "    qml.RX(np.pi / 4, wires=0)\n",
        "    qml.Hadamard(wires=0)\n",
        "    qml.PauliZ(wires=0)\n",
        "\n",
        "    ##################\n",
        "    # YOUR CODE HERE #\n",
        "    ##################\n",
        "\n",
        "    # RETURN THE MEASUREMENT SAMPLES OF THE CORRECT OBSERVABLE\n",
        "\n",
        "    return qml.sample(qml.PauliY(0))\n",
        "\n",
        "\n",
        "def compute_expval_from_samples(samples):\n",
        "    \"\"\"Compute the expectation value of an observable given a set of\n",
        "    sample outputs. You can assume that there are two possible outcomes,\n",
        "    1 and -1.\n",
        "\n",
        "    Args:\n",
        "        samples (np.array[float]): 100000 samples representing the results of\n",
        "            running the above circuit.\n",
        "\n",
        "    Returns:\n",
        "        float: the expectation value computed based on samples.\n",
        "    \"\"\"\n",
        "\n",
        "    estimated_expval = 0\n",
        "\n",
        "    ##################\n",
        "    # YOUR CODE HERE #\n",
        "    ##################\n",
        "    sum = 0\n",
        "    for i in range(len(samples)):\n",
        "        sum+=samples[i]\n",
        "    estimated_expval = sum/len(samples)\n",
        "\n",
        "    # USE THE SAMPLES TO ESTIMATE THE EXPECTATION VALUE\n",
        "\n",
        "    return estimated_expval\n",
        "\n",
        "\n",
        "samples = circuit()\n",
        "print(compute_expval_from_samples(samples))\n"
      ]
    },
    {
      "cell_type": "markdown",
      "metadata": {
        "id": "-c9igJOFQAmt"
      },
      "source": [
        "### I.10.4 - The variance of sample measurements"
      ]
    },
    {
      "cell_type": "code",
      "execution_count": null,
      "metadata": {
        "colab": {
          "base_uri": "https://localhost:8080/"
        },
        "id": "-9RbiDPWQGRe",
        "outputId": "1a033a6f-12e6-410e-bf97-547faff342eb"
      },
      "outputs": [
        {
          "data": {
            "text/plain": [
              "[0.1, 0.05, 0.025, 0.01, 0.005, 0.0025, 0.001, 0.0005, 0.00025]"
            ]
          },
          "execution_count": 41,
          "metadata": {},
          "output_type": "execute_result"
        }
      ],
      "source": [
        "def variance_experiment(n_shots):\n",
        "    \"\"\"Run an experiment to determine the variance in an expectation\n",
        "    value computed with a given number of shots.\n",
        "\n",
        "    Args:\n",
        "        n_shots (int): The number of shots\n",
        "\n",
        "    Returns:\n",
        "        float: The variance in expectation value we obtain running the\n",
        "        circuit 100 times with n_shots shots each.\n",
        "    \"\"\"\n",
        "\n",
        "    # To obtain a variance, we run the circuit multiple times at each shot value.\n",
        "    n_trials = 100\n",
        "\n",
        "    ##################\n",
        "    # YOUR CODE HERE #\n",
        "    ##################\n",
        "\n",
        "    # CREATE A DEVICE WITH GIVEN NUMBER OF SHOTS\n",
        "    dev = qml.device(\"default.qubit\", wires = 1, shots = n_shots)\n",
        "\n",
        "    # DECORATE THE CIRCUIT BELOW TO CREATE A QNODE\n",
        "    @qml.qnode(dev)\n",
        "    def circuit():\n",
        "        qml.Hadamard(wires=0)\n",
        "        return qml.expval(qml.PauliZ(wires=0))\n",
        "\n",
        "    # RUN THE QNODE N_TRIALS TIMES AND RETURN THE VARIANCE OF THE RESULTS\n",
        "    results = []\n",
        "    for i in range(n_trials):\n",
        "        result = circuit()\n",
        "        results.append(result)\n",
        "\n",
        "    return np.var(results)\n",
        "\n",
        "\n",
        "def variance_scaling(n_shots):\n",
        "    \"\"\"Once you have determined how the variance in expectation value scales\n",
        "    with the number of shots, complete this function to programmatically\n",
        "    represent the relationship.\n",
        "\n",
        "    Args:\n",
        "        n_shots (int): The number of shots\n",
        "\n",
        "    Returns:\n",
        "        float: The variance in expectation value we expect to see when we run\n",
        "        an experiment with n_shots shots.\n",
        "    \"\"\"\n",
        "\n",
        "    estimated_variance = 0\n",
        "\n",
        "    ##################\n",
        "    # YOUR CODE HERE #\n",
        "    ##################\n",
        "\n",
        "    # ESTIMATE THE VARIANCE BASED ON SHOT NUMBER\n",
        "    estimated_variance = 1/n_shots\n",
        "    return estimated_variance\n",
        "\n",
        "\n",
        "# Various numbers of shots; you can change this\n",
        "shot_vals = [10, 20, 40, 100, 200, 400, 1000, 2000, 4000]\n",
        "\n",
        "# Used to plot your results\n",
        "results_experiment = [variance_experiment(shots) for shots in shot_vals]\n",
        "results_scaling = [variance_scaling(shots) for shots in shot_vals]\n",
        "# plot = plotter(shot_vals, results_experiment, results_scaling)\n",
        "results_scaling"
      ]
    },
    {
      "cell_type": "markdown",
      "metadata": {
        "id": "mDSbW9eOV7DC"
      },
      "source": [
        "# Circuits with Many Qubits"
      ]
    },
    {
      "cell_type": "markdown",
      "metadata": {
        "id": "AEuS7aiMRvtX"
      },
      "source": [
        "<a href=\"https://ibb.co/MR6zW7w\"><img src=\"https://i.ibb.co/xMHnP69/2024-07-16-03-20.png\" alt=\"2024-07-16-03-20\" border=\"0\"></a>"
      ]
    },
    {
      "cell_type": "markdown",
      "metadata": {
        "id": "ARdPbahQxZyD"
      },
      "source": [
        "## 1. Multi-Qubit Systems"
      ]
    },
    {
      "cell_type": "markdown",
      "metadata": {
        "id": "2oVDXgsgxU4K"
      },
      "source": [
        "### I.11.1 - Preparing basis state"
      ]
    },
    {
      "cell_type": "code",
      "execution_count": null,
      "metadata": {
        "colab": {
          "base_uri": "https://localhost:8080/"
        },
        "id": "ArvERN04V9Jc",
        "outputId": "5a8713fc-9e6a-450d-8856-a882e924e1be"
      },
      "outputs": [
        {
          "name": "stdout",
          "output_type": "stream",
          "text": [
            "Output state = [0.+0.j 0.+0.j 0.+0.j 0.+0.j 1.+0.j 0.+0.j 0.+0.j 0.+0.j]\n"
          ]
        }
      ],
      "source": [
        "num_wires = 3\n",
        "dev = qml.device(\"default.qubit\", wires=num_wires)\n",
        "\n",
        "\n",
        "@qml.qnode(dev)\n",
        "def make_basis_state(basis_id):\n",
        "    \"\"\"Produce the 3-qubit basis state corresponding to |basis_id>.\n",
        "\n",
        "    Note that the system starts in |000>.\n",
        "\n",
        "    Args:\n",
        "        basis_id (int): An integer value identifying the basis state to construct.\n",
        "\n",
        "    Returns:\n",
        "        np.array[complex]: The computational basis state |basis_id>.\n",
        "    \"\"\"\n",
        "\n",
        "    ##################\n",
        "    # YOUR CODE HERE #\n",
        "    ##################\n",
        "\n",
        "    # CREATE THE BASIS STATE\n",
        "    bin = np.binary_repr(basis_id, width=num_wires)\n",
        "    for i in range(len(bin)):\n",
        "        if bin[i] == '1':\n",
        "            qml.PauliX(wires = i)\n",
        "\n",
        "    return qml.state()\n",
        "\n",
        "\n",
        "basis_id = 4\n",
        "print(f\"Output state = {make_basis_state(basis_id)}\")\n"
      ]
    },
    {
      "cell_type": "markdown",
      "metadata": {
        "id": "J--nIggbzHp1"
      },
      "source": [
        "### I.11.2 - Separable Operations"
      ]
    },
    {
      "cell_type": "code",
      "execution_count": null,
      "metadata": {
        "colab": {
          "base_uri": "https://localhost:8080/"
        },
        "id": "cVkKZbsxype2",
        "outputId": "f0395983-d0e7-4f41-85b0-28baa1d61977"
      },
      "outputs": [
        {
          "name": "stdout",
          "output_type": "stream",
          "text": [
            "(tensor(0., requires_grad=True), tensor(-1., requires_grad=True))\n"
          ]
        }
      ],
      "source": [
        "# Creates a device with *two* qubits\n",
        "dev = qml.device(\"default.qubit\", wires=2)\n",
        "\n",
        "\n",
        "@qml.qnode(dev)\n",
        "def two_qubit_circuit():\n",
        "    ##################\n",
        "    # YOUR CODE HERE #\n",
        "    ##################\n",
        "\n",
        "    # PREPARE |+>|1>\n",
        "    qml.Hadamard(wires = 0)\n",
        "    qml.PauliX(wires = 1)\n",
        "\n",
        "    # RETURN TWO EXPECTATION VALUES, Y ON FIRST QUBIT, Z ON SECOND QUBIT\n",
        "\n",
        "    return qml.expval(qml.PauliY(0)), qml.expval(qml.PauliZ(1))\n",
        "\n",
        "\n",
        "print(two_qubit_circuit())\n"
      ]
    },
    {
      "cell_type": "markdown",
      "metadata": {
        "id": "BonShrq41gHx"
      },
      "source": [
        "### I.11.3 - Expectation value of the two qubit observable"
      ]
    },
    {
      "cell_type": "code",
      "execution_count": null,
      "metadata": {
        "colab": {
          "base_uri": "https://localhost:8080/"
        },
        "id": "1zfgqu-G0Rnc",
        "outputId": "0b516feb-a16f-4a89-fb7c-c01b8bb3dad5"
      },
      "outputs": [
        {
          "name": "stdout",
          "output_type": "stream",
          "text": [
            "0.9999999999999996\n"
          ]
        }
      ],
      "source": [
        "dev = qml.device(\"default.qubit\", wires=2)\n",
        "\n",
        "\n",
        "@qml.qnode(dev)\n",
        "def create_one_minus():\n",
        "    ##################\n",
        "    # YOUR CODE HERE #\n",
        "    ##################\n",
        "\n",
        "    # PREPARE |1>|->\n",
        "    qml.X(wires = 0)\n",
        "    qml.X(wires = 1)\n",
        "    qml.Hadamard(wires = 1)\n",
        "\n",
        "    # RETURN A SINGLE EXPECTATION VALUE Z \\otimes X\n",
        "\n",
        "    return qml.expval(qml.PauliZ(wires = 0) @ qml.PauliX(wires = 1))\n",
        "\n",
        "\n",
        "print(create_one_minus())\n"
      ]
    },
    {
      "cell_type": "markdown",
      "metadata": {
        "id": "aBe43fgP1zM_"
      },
      "source": [
        "### I.11.4 - Double Trouble"
      ]
    },
    {
      "cell_type": "code",
      "execution_count": null,
      "metadata": {
        "colab": {
          "base_uri": "https://localhost:8080/"
        },
        "id": "CUo5VemJ14-N",
        "outputId": "013fd629-84d5-4d98-94db-f3d350cfbd6b"
      },
      "outputs": [
        {
          "data": {
            "text/plain": [
              "array([ 1.        ,  0.98995769,  0.96016137,  0.91159112,  0.84584137,\n",
              "        0.76506401,  0.67189147,  0.56934274,  0.46071565,  0.34946935,\n",
              "        0.23910115,  0.13302222,  0.03443665, -0.05377184, -0.12914139,\n",
              "       -0.18971803, -0.23412323, -0.26160042, -0.27203898, -0.26597461,\n",
              "       -0.24456636, -0.2095509 , -0.16317591, -0.10811488, -0.04736646,\n",
              "        0.01585798,  0.07825449,  0.13655009,  0.18762512,  0.22863011,\n",
              "        0.25709278,  0.2710114 ,  0.26893104,  0.25      ,  0.21400432,\n",
              "        0.16137912,  0.0931964 ,  0.01112958, -0.08260377, -0.18531904,\n",
              "       -0.29395882, -0.40520075, -0.51557514, -0.62158821, -0.71984631,\n",
              "       -0.80717685, -0.88074144, -0.93813717, -0.97748245, -0.99748423,\n",
              "       -0.99748423, -0.97748245, -0.93813717, -0.88074144, -0.80717685,\n",
              "       -0.71984631, -0.62158821, -0.51557514, -0.40520075, -0.29395882,\n",
              "       -0.18531904, -0.08260377,  0.01112958,  0.0931964 ,  0.16137912,\n",
              "        0.21400432,  0.25      ,  0.26893104,  0.2710114 ,  0.25709278,\n",
              "        0.22863011,  0.18762512,  0.13655009,  0.07825449,  0.01585798,\n",
              "       -0.04736646, -0.10811488, -0.16317591, -0.2095509 , -0.24456636,\n",
              "       -0.26597461, -0.27203898, -0.26160042, -0.23412323, -0.18971803,\n",
              "       -0.12914139, -0.05377184,  0.03443665,  0.13302222,  0.23910115,\n",
              "        0.34946935,  0.46071565,  0.56934274,  0.67189147,  0.76506401,\n",
              "        0.84584137,  0.91159112,  0.96016137,  0.98995769,  1.        ])"
            ]
          },
          "execution_count": 45,
          "metadata": {},
          "output_type": "execute_result"
        }
      ],
      "source": [
        "dev = qml.device(\"default.qubit\", wires=2)\n",
        "\n",
        "\n",
        "@qml.qnode(dev)\n",
        "def circuit_1(theta):\n",
        "    \"\"\"Implement the circuit and measure Z I and I Z.\n",
        "\n",
        "    Args:\n",
        "        theta (float): a rotation angle.\n",
        "\n",
        "    Returns:\n",
        "        float, float: The expectation values of the observables Z I, and I Z\n",
        "    \"\"\"\n",
        "    ##################\n",
        "    # YOUR CODE HERE #\n",
        "    ##################\n",
        "    qml.RX(theta, wires = 0)\n",
        "    qml.RY(2*theta, wires = 0)\n",
        "\n",
        "    return qml.expval(qml.PauliZ(0)), qml.expval(qml.PauliZ(1))\n",
        "\n",
        "\n",
        "@qml.qnode(dev)\n",
        "def circuit_2(theta):\n",
        "    \"\"\"Implement the circuit and measure Z Z.\n",
        "\n",
        "    Args:\n",
        "        theta (float): a rotation angle.\n",
        "\n",
        "    Returns:\n",
        "        float: The expectation value of the observable Z Z\n",
        "    \"\"\"\n",
        "\n",
        "    ##################\n",
        "    # YOUR CODE HERE #\n",
        "    ##################\n",
        "    qml.RX(theta, wires = 0)\n",
        "    qml.RY(2*theta, wires = 0)\n",
        "\n",
        "    return qml.expval(qml.PauliZ(0) @ qml.PauliZ(1))\n",
        "\n",
        "\n",
        "def zi_iz_combination(ZI_results, IZ_results):\n",
        "    \"\"\"Implement a function that acts on the ZI and IZ results to\n",
        "    produce the ZZ results. How do you think they should combine?\n",
        "\n",
        "    Args:\n",
        "        ZI_results (np.array[float]): Results from the expectation value of\n",
        "            ZI in circuit_1.\n",
        "        IZ_results (np.array[float]): Results from the expectation value of\n",
        "            IZ in circuit_2.\n",
        "\n",
        "    Returns:\n",
        "        np.array[float]: A combination of ZI_results and IZ_results that\n",
        "        produces results equivalent to measuring ZZ.\n",
        "    \"\"\"\n",
        "\n",
        "    combined_results = np.zeros(len(ZI_results))\n",
        "\n",
        "    ##################\n",
        "    # YOUR CODE HERE #\n",
        "    ##################\n",
        "\n",
        "    return ZI_results * IZ_results\n",
        "\n",
        "\n",
        "theta = np.linspace(0, 2 * np.pi, 100)\n",
        "\n",
        "# Run circuit 1, and process the results\n",
        "circuit_1_results = np.array([circuit_1(t) for t in theta])\n",
        "\n",
        "ZI_results = circuit_1_results[:, 0]\n",
        "IZ_results = circuit_1_results[:, 1]\n",
        "combined_results = zi_iz_combination(ZI_results, IZ_results)\n",
        "\n",
        "# Run circuit 2\n",
        "ZZ_results = np.array([circuit_2(t) for t in theta])\n",
        "\n",
        "# Plot your results\n",
        "# plot = plotter(theta, ZI_results, IZ_results, ZZ_results, combined_results)\n",
        "ZZ_results"
      ]
    },
    {
      "cell_type": "code",
      "execution_count": null,
      "metadata": {
        "colab": {
          "base_uri": "https://localhost:8080/"
        },
        "id": "gM3FaV5q2tvy",
        "outputId": "85430bea-4dca-4177-85f7-4526782336e5"
      },
      "outputs": [
        {
          "data": {
            "text/plain": [
              "array([ 1.        ,  0.98995769,  0.96016137,  0.91159112,  0.84584137,\n",
              "        0.76506401,  0.67189147,  0.56934274,  0.46071565,  0.34946935,\n",
              "        0.23910115,  0.13302222,  0.03443665, -0.05377184, -0.12914139,\n",
              "       -0.18971803, -0.23412323, -0.26160042, -0.27203898, -0.26597461,\n",
              "       -0.24456636, -0.2095509 , -0.16317591, -0.10811488, -0.04736646,\n",
              "        0.01585798,  0.07825449,  0.13655009,  0.18762512,  0.22863011,\n",
              "        0.25709278,  0.2710114 ,  0.26893104,  0.25      ,  0.21400432,\n",
              "        0.16137912,  0.0931964 ,  0.01112958, -0.08260377, -0.18531904,\n",
              "       -0.29395882, -0.40520075, -0.51557514, -0.62158821, -0.71984631,\n",
              "       -0.80717685, -0.88074144, -0.93813717, -0.97748245, -0.99748423,\n",
              "       -0.99748423, -0.97748245, -0.93813717, -0.88074144, -0.80717685,\n",
              "       -0.71984631, -0.62158821, -0.51557514, -0.40520075, -0.29395882,\n",
              "       -0.18531904, -0.08260377,  0.01112958,  0.0931964 ,  0.16137912,\n",
              "        0.21400432,  0.25      ,  0.26893104,  0.2710114 ,  0.25709278,\n",
              "        0.22863011,  0.18762512,  0.13655009,  0.07825449,  0.01585798,\n",
              "       -0.04736646, -0.10811488, -0.16317591, -0.2095509 , -0.24456636,\n",
              "       -0.26597461, -0.27203898, -0.26160042, -0.23412323, -0.18971803,\n",
              "       -0.12914139, -0.05377184,  0.03443665,  0.13302222,  0.23910115,\n",
              "        0.34946935,  0.46071565,  0.56934274,  0.67189147,  0.76506401,\n",
              "        0.84584137,  0.91159112,  0.96016137,  0.98995769,  1.        ])"
            ]
          },
          "execution_count": 46,
          "metadata": {},
          "output_type": "execute_result"
        }
      ],
      "source": [
        "combined_results"
      ]
    },
    {
      "cell_type": "markdown",
      "metadata": {
        "id": "w0NVUPFb4Qe8"
      },
      "source": [
        "## 2. All Tied Up"
      ]
    },
    {
      "cell_type": "markdown",
      "metadata": {
        "id": "oB_3UcrR5FMh"
      },
      "source": [
        "### I.12.1 - Entangling Operations"
      ]
    },
    {
      "cell_type": "code",
      "execution_count": null,
      "metadata": {
        "colab": {
          "base_uri": "https://localhost:8080/"
        },
        "id": "IdjkwwzD30AZ",
        "outputId": "477965d0-fe2e-4084-cc75-48f0a6cf8879"
      },
      "outputs": [
        {
          "name": "stdout",
          "output_type": "stream",
          "text": [
            "[1.+0.j 0.+0.j 0.+0.j 0.+0.j]\n"
          ]
        }
      ],
      "source": [
        "num_wires = 2\n",
        "dev = qml.device(\"default.qubit\", wires=num_wires)\n",
        "\n",
        "\n",
        "@qml.qnode(dev)\n",
        "def apply_cnot(basis_id):\n",
        "    \"\"\"Apply a CNOT to |basis_id>.\n",
        "\n",
        "    Args:\n",
        "        basis_id (int): An integer value identifying the basis state to construct.\n",
        "\n",
        "    Returns:\n",
        "        np.array[complex]: The resulting state after applying CNOT|basis_id>.\n",
        "    \"\"\"\n",
        "\n",
        "    # Prepare the basis state |basis_id>\n",
        "    bits = [int(x) for x in np.binary_repr(basis_id, width=num_wires)]\n",
        "    qml.BasisStatePreparation(bits, wires=[0, 1])\n",
        "\n",
        "    ##################\n",
        "    # YOUR CODE HERE #\n",
        "    ##################\n",
        "\n",
        "    # APPLY THE CNOT\n",
        "    qml.CNOT(wires = [0, 1])\n",
        "\n",
        "    return qml.state()\n",
        "\n",
        "\n",
        "##################\n",
        "# YOUR CODE HERE #\n",
        "##################\n",
        "\n",
        "# REPLACE THE BIT STRINGS VALUES BELOW WITH THE CORRECT ONES\n",
        "cnot_truth_table = {\"00\": \"00\", \"01\": \"01\", \"10\": \"11\", \"11\": \"10\"}\n",
        "\n",
        "\n",
        "# Run your QNode with various inputs to help fill in your truth table\n",
        "print(apply_cnot(0))\n"
      ]
    },
    {
      "cell_type": "markdown",
      "metadata": {
        "id": "0K6VULka5VvP"
      },
      "source": [
        "### I.12.2 - Separable or entangled"
      ]
    },
    {
      "cell_type": "code",
      "execution_count": null,
      "metadata": {
        "colab": {
          "base_uri": "https://localhost:8080/"
        },
        "id": "EofIEHYl5Kj5",
        "outputId": "c2d56991-ef6f-4ef7-b1d1-e9f559b7fd74"
      },
      "outputs": [
        {
          "name": "stdout",
          "output_type": "stream",
          "text": [
            "[0.70710678+0.j 0.        +0.j 0.        +0.j 0.70710678+0.j]\n"
          ]
        }
      ],
      "source": [
        "dev = qml.device(\"default.qubit\", wires=2)\n",
        "\n",
        "\n",
        "@qml.qnode(dev)\n",
        "def apply_h_cnot():\n",
        "    ##################\n",
        "    # YOUR CODE HERE #\n",
        "    ##################\n",
        "\n",
        "    # APPLY THE OPERATIONS IN THE CIRCUIT\n",
        "\n",
        "    qml.Hadamard(wires = 0)\n",
        "    qml.CNOT(wires = [0, 1])\n",
        "\n",
        "    return qml.state()\n",
        "\n",
        "\n",
        "print(apply_h_cnot())\n",
        "\n",
        "##################\n",
        "# YOUR CODE HERE #\n",
        "##################\n",
        "\n",
        "# SET THIS AS 'separable' OR 'entangled' BASED ON YOUR OUTCOME\n",
        "state_status = \"entangled\"\n"
      ]
    },
    {
      "cell_type": "markdown",
      "metadata": {
        "id": "8o4K9CNd6IIo"
      },
      "source": [
        "### I.12.3 - Controlled rotations"
      ]
    },
    {
      "cell_type": "code",
      "execution_count": null,
      "metadata": {
        "colab": {
          "base_uri": "https://localhost:8080/"
        },
        "id": "Qw1zt5Hr6Br3",
        "outputId": "d774f9e5-186d-4a96-f285-409e2c7a6bb6"
      },
      "outputs": [
        {
          "name": "stdout",
          "output_type": "stream",
          "text": [
            "[5.00000000e-01 0.00000000e+00 0.00000000e+00 0.00000000e+00\n",
            " 4.98751041e-01 0.00000000e+00 1.23651067e-03 1.24480103e-05]\n"
          ]
        }
      ],
      "source": [
        "dev = qml.device(\"default.qubit\", wires=3)\n",
        "\n",
        "\n",
        "@qml.qnode(dev)\n",
        "def controlled_rotations(theta, phi, omega):\n",
        "    \"\"\"Implement the circuit above and return measurement outcome probabilities.\n",
        "\n",
        "    Args:\n",
        "        theta (float): A rotation angle\n",
        "        phi (float): A rotation angle\n",
        "        omega (float): A rotation angle\n",
        "\n",
        "    Returns:\n",
        "        np.array[float]: Measurement outcome probabilities of the 3-qubit\n",
        "        computational basis states.\n",
        "    \"\"\"\n",
        "\n",
        "    ##################\n",
        "    # YOUR CODE HERE #\n",
        "    ##################\n",
        "\n",
        "    # APPLY THE OPERATIONS IN THE CIRCUIT AND RETURN MEASUREMENT PROBABILITIES\n",
        "    qml.Hadamard(wires = 0)\n",
        "    qml.CRX(theta, wires = [0, 1])\n",
        "    qml.CRY(phi, wires = [1, 2])\n",
        "    qml.CRZ(omega, wires = [2, 0])\n",
        "\n",
        "\n",
        "    return qml.probs(wires = [0, 1, 2])\n",
        "\n",
        "\n",
        "theta, phi, omega = 0.1, 0.2, 0.3\n",
        "print(controlled_rotations(theta, phi, omega))\n"
      ]
    },
    {
      "cell_type": "markdown",
      "metadata": {
        "id": "ht2s2gW-7EbZ"
      },
      "source": [
        "## 3. We've Got It Under Control"
      ]
    },
    {
      "cell_type": "markdown",
      "metadata": {
        "id": "cmo-s3Vc7Hlu"
      },
      "source": [
        "### I13.1 - The Imposter CZ"
      ]
    },
    {
      "cell_type": "code",
      "execution_count": null,
      "metadata": {
        "colab": {
          "base_uri": "https://localhost:8080/"
        },
        "id": "ErxtG79y6-Bd",
        "outputId": "c4d3d821-b633-4e61-fac2-ef1e98b84641"
      },
      "outputs": [
        {
          "name": "stdout",
          "output_type": "stream",
          "text": [
            "True CZ output state [1.+0.j 0.+0.j 0.+0.j 0.+0.j]\n",
            "Imposter CZ output state [1.+0.j 0.+0.j 0.+0.j 0.+0.j]\n"
          ]
        }
      ],
      "source": [
        "dev = qml.device(\"default.qubit\", wires=2)\n",
        "\n",
        "# Prepare a two-qubit state; change up the angles if you like\n",
        "phi, theta, omega = 1.2, 2.3, 3.4\n",
        "\n",
        "\n",
        "@qml.qnode(device=dev)\n",
        "def true_cz(phi, theta, omega):\n",
        "    # prepare_states(phi, theta, omega)\n",
        "\n",
        "    ##################\n",
        "    # YOUR CODE HERE #\n",
        "    ##################\n",
        "\n",
        "    # IMPLEMENT THE REGULAR CZ GATE HERE\n",
        "    qml.CZ(wires = [0, 1])\n",
        "\n",
        "    return qml.state()\n",
        "\n",
        "\n",
        "@qml.qnode(dev)\n",
        "def imposter_cz(phi, theta, omega):\n",
        "    # prepare_states(phi, theta, omega)\n",
        "\n",
        "    ##################\n",
        "    # YOUR CODE HERE #\n",
        "    ##################\n",
        "\n",
        "    # IMPLEMENT CZ USING ONLY H AND CNOT\n",
        "    qml.Hadamard(wires = 1)\n",
        "    qml.CNOT(wires = [0, 1])\n",
        "    qml.Hadamard(wires = 1)\n",
        "\n",
        "    return qml.state()\n",
        "\n",
        "\n",
        "print(f\"True CZ output state {true_cz(phi, theta, omega)}\")\n",
        "print(f\"Imposter CZ output state {imposter_cz(phi, theta, omega)}\")\n"
      ]
    },
    {
      "cell_type": "code",
      "execution_count": null,
      "metadata": {
        "colab": {
          "base_uri": "https://localhost:8080/",
          "height": 94
        },
        "id": "mVjkGZSX72YP",
        "outputId": "e20ab115-f3b3-4ba1-c244-a9610701825a"
      },
      "outputs": [
        {
          "data": {
            "text/html": [
              "<pre style=\"word-wrap: normal;white-space: pre;background: #fff0;line-height: 1.1;font-family: &quot;Courier New&quot;,Courier,monospace\">                    \n",
              "q_0: ───────■───────\n",
              "     ┌───┐┌─┴─┐┌───┐\n",
              "q_1: ┤ H ├┤ X ├┤ H ├\n",
              "     └───┘└───┘└───┘</pre>"
            ],
            "text/plain": [
              "                    \n",
              "q_0: ───────■───────\n",
              "     ┌───┐┌─┴─┐┌───┐\n",
              "q_1: ┤ H ├┤ X ├┤ H ├\n",
              "     └───┘└───┘└───┘"
            ]
          },
          "execution_count": 51,
          "metadata": {},
          "output_type": "execute_result"
        }
      ],
      "source": [
        "# Cheating using decomposition with qiskit\n",
        "from qiskit import transpile\n",
        "from qiskit.circuit import Parameter\n",
        "\n",
        "qc = QuantumCircuit(2)\n",
        "qc.cz(0, 1)\n",
        "# qc.t(0)\n",
        "# qc.y(0)\n",
        "\n",
        "basis = transpile(qc, basis_gates=['h', 'cx'])\n",
        "basis.draw()\n"
      ]
    },
    {
      "cell_type": "markdown",
      "metadata": {
        "id": "jPwmm8YS9OFt"
      },
      "source": [
        "### I.13.2 - The Swap Gate"
      ]
    },
    {
      "cell_type": "code",
      "execution_count": null,
      "metadata": {
        "colab": {
          "base_uri": "https://localhost:8080/"
        },
        "id": "dQU2pqBg8IXx",
        "outputId": "519489e4-d11c-4f99-d1c4-442909a0c58e"
      },
      "outputs": [
        {
          "name": "stdout",
          "output_type": "stream",
          "text": [
            "Regular SWAP state = [1.+0.j 0.+0.j 0.+0.j 0.+0.j]\n",
            "CNOT SWAP state = [1.+0.j 0.+0.j 0.+0.j 0.+0.j]\n"
          ]
        }
      ],
      "source": [
        "dev = qml.device(\"default.qubit\", wires=2)\n",
        "\n",
        "# Prepare a two-qubit state; change up the angles if you like\n",
        "phi, theta, omega = 1.2, 2.3, 3.4\n",
        "\n",
        "\n",
        "@qml.qnode(dev)\n",
        "def apply_swap(phi, theta, omega):\n",
        "    # prepare_states(phi, theta, omega)\n",
        "\n",
        "    ##################\n",
        "    # YOUR CODE HERE #\n",
        "    ##################\n",
        "\n",
        "    # IMPLEMENT THE REGULAR SWAP GATE HERE\n",
        "    qml.SWAP(wires = [0, 1])\n",
        "\n",
        "    return qml.state()\n",
        "\n",
        "\n",
        "@qml.qnode(dev)\n",
        "def apply_swap_with_cnots(phi, theta, omega):\n",
        "    # prepare_states(phi, theta, omega)\n",
        "\n",
        "    ##################\n",
        "    # YOUR CODE HERE #\n",
        "    ##################\n",
        "\n",
        "    # IMPLEMENT THE SWAP GATE USING A SEQUENCE OF CNOTS\n",
        "    qml.CNOT(wires = [0, 1])\n",
        "    qml.CNOT(wires = [1, 0])\n",
        "    qml.CNOT(wires = [0, 1])\n",
        "\n",
        "\n",
        "    return qml.state()\n",
        "\n",
        "\n",
        "print(f\"Regular SWAP state = {apply_swap(phi, theta, omega)}\")\n",
        "print(f\"CNOT SWAP state = {apply_swap_with_cnots(phi, theta, omega)}\")\n"
      ]
    },
    {
      "cell_type": "code",
      "execution_count": null,
      "metadata": {
        "colab": {
          "base_uri": "https://localhost:8080/",
          "height": 94
        },
        "id": "7l-JHUmi9cuM",
        "outputId": "4814a770-c891-4946-bd25-bf4209a72aeb"
      },
      "outputs": [
        {
          "data": {
            "text/html": [
              "<pre style=\"word-wrap: normal;white-space: pre;background: #fff0;line-height: 1.1;font-family: &quot;Courier New&quot;,Courier,monospace\">          ┌───┐     \n",
              "q_0: ──■──┤ X ├──■──\n",
              "     ┌─┴─┐└─┬─┘┌─┴─┐\n",
              "q_1: ┤ X ├──■──┤ X ├\n",
              "     └───┘     └───┘</pre>"
            ],
            "text/plain": [
              "          ┌───┐     \n",
              "q_0: ──■──┤ X ├──■──\n",
              "     ┌─┴─┐└─┬─┘┌─┴─┐\n",
              "q_1: ┤ X ├──■──┤ X ├\n",
              "     └───┘     └───┘"
            ]
          },
          "execution_count": 53,
          "metadata": {},
          "output_type": "execute_result"
        }
      ],
      "source": [
        "# Cheating using decomposition with qiskit\n",
        "from qiskit import transpile\n",
        "from qiskit.circuit import Parameter\n",
        "\n",
        "qc = QuantumCircuit(2)\n",
        "qc.swap(0, 1)\n",
        "# qc.t(0)\n",
        "# qc.y(0)\n",
        "\n",
        "basis = transpile(qc, basis_gates=['cx'])\n",
        "basis.draw()\n"
      ]
    },
    {
      "cell_type": "markdown",
      "metadata": {
        "id": "l9lNssnm9cJu"
      },
      "source": [
        "### I.13.3 - The toffoli gate"
      ]
    },
    {
      "cell_type": "code",
      "execution_count": null,
      "metadata": {
        "colab": {
          "base_uri": "https://localhost:8080/"
        },
        "id": "hEFFdPYd-QWo",
        "outputId": "e7a5c300-0a64-45a2-c4d6-3639a00dfafb"
      },
      "outputs": [
        {
          "name": "stdout",
          "output_type": "stream",
          "text": [
            "[1.+0.j 0.+0.j 0.+0.j 0.+0.j 0.+0.j 0.+0.j 0.+0.j 0.+0.j]\n",
            "[1.+0.j 0.+0.j 0.+0.j 0.+0.j 0.+0.j 0.+0.j 0.+0.j 0.+0.j]\n"
          ]
        }
      ],
      "source": [
        "dev = qml.device(\"default.qubit\", wires=3)\n",
        "\n",
        "# Prepare first qubit in |1>, and arbitrary states on the second two qubits\n",
        "phi, theta, omega = 1.2, 2.3, 3.4\n",
        "\n",
        "\n",
        "# A helper function just so you can visualize the initial state\n",
        "# before the controlled SWAP occurs.\n",
        "@qml.qnode(dev)\n",
        "def no_swap(phi, theta, omega):\n",
        "    # prepare_states(phi, theta, omega)\n",
        "    return qml.state()\n",
        "\n",
        "\n",
        "@qml.qnode(dev)\n",
        "def controlled_swap(phi, theta, omega):\n",
        "    # prepare_states(phi, theta, omega)\n",
        "\n",
        "    ##################\n",
        "    # YOUR CODE HERE #\n",
        "    ##################\n",
        "\n",
        "    # PERFORM A CONTROLLED SWAP USING A SEQUENCE OF TOFFOLIS\n",
        "    qml.Toffoli(wires = [0, 1, 2])\n",
        "    qml.Toffoli(wires = [0, 2, 1])\n",
        "    qml.Toffoli(wires = [0, 1, 2])\n",
        "\n",
        "\n",
        "    return qml.state()\n",
        "\n",
        "\n",
        "print(no_swap(phi, theta, omega))\n",
        "print(controlled_swap(phi, theta, omega))\n"
      ]
    },
    {
      "cell_type": "markdown",
      "metadata": {
        "id": "mRb3HPKhALp4"
      },
      "source": [
        "### I.13.4 - Mixed Controlled Gates"
      ]
    },
    {
      "cell_type": "code",
      "execution_count": null,
      "metadata": {
        "colab": {
          "base_uri": "https://localhost:8080/"
        },
        "id": "mW4ghp9W-0XL",
        "outputId": "d73549ce-b523-4810-95d8-0e7ca547f178"
      },
      "outputs": [
        {
          "name": "stdout",
          "output_type": "stream",
          "text": [
            "[0.35355339+0.j 0.        +0.j 0.        +0.j 0.35355339+0.j\n",
            " 0.35355339+0.j 0.        +0.j 0.35355339+0.j 0.        +0.j\n",
            " 0.35355339+0.j 0.        +0.j 0.35355339+0.j 0.        +0.j\n",
            " 0.35355339+0.j 0.        +0.j 0.35355339+0.j 0.        +0.j]\n"
          ]
        }
      ],
      "source": [
        "dev = qml.device(\"default.qubit\", wires=4)\n",
        "\n",
        "\n",
        "@qml.qnode(dev)\n",
        "def four_qubit_mcx():\n",
        "    ##################\n",
        "    # YOUR CODE HERE #\n",
        "    ##################\n",
        "\n",
        "    # IMPLEMENT THE CIRCUIT ABOVE USING A 4-QUBIT MULTI-CONTROLLED X\n",
        "    qml.Hadamard(wires = 0)\n",
        "    qml.Hadamard(wires = 1)\n",
        "    qml.Hadamard(wires = 2)\n",
        "\n",
        "    qml.MultiControlledX(control_wires=[0, 1, 2], wires=3, control_values=\"001\")\n",
        "\n",
        "\n",
        "    return qml.state()\n",
        "\n",
        "\n",
        "print(four_qubit_mcx())\n"
      ]
    },
    {
      "cell_type": "markdown",
      "metadata": {
        "id": "vtrmtUW1DsTT"
      },
      "source": [
        "### I.13.5 - The three controlled not"
      ]
    },
    {
      "cell_type": "code",
      "execution_count": null,
      "metadata": {
        "colab": {
          "base_uri": "https://localhost:8080/"
        },
        "id": "hSDijgiSBawW",
        "outputId": "f9d425f7-6c47-48fa-f395-b153bcc1565e"
      },
      "outputs": [
        {
          "name": "stdout",
          "output_type": "stream",
          "text": [
            "[0.+0.j 0.+0.j 0.+0.j 0.+0.j 0.+0.j 0.+0.j 0.+0.j 0.+0.j 0.+0.j 0.+0.j\n",
            " 0.+0.j 0.+0.j 0.+0.j 0.+0.j 0.+0.j 0.+0.j 0.+0.j 0.+0.j 0.+0.j 0.+0.j\n",
            " 0.+0.j 0.+0.j 0.+0.j 0.+0.j 0.+0.j 0.+0.j 0.+0.j 0.+0.j 0.+0.j 1.+0.j\n",
            " 0.+0.j 0.+0.j]\n"
          ]
        }
      ],
      "source": [
        "# Wires 0, 1, 2 are the control qubits\n",
        "# Wire 3 is the auxiliary qubit\n",
        "# Wire 4 is the target\n",
        "dev = qml.device(\"default.qubit\", wires=5)\n",
        "\n",
        "\n",
        "@qml.qnode(dev)\n",
        "def four_qubit_mcx_only_tofs():\n",
        "    # We will initialize the control qubits in state |1> so you can see\n",
        "    # how the output state gets changed.\n",
        "    qml.PauliX(wires=0)\n",
        "    qml.PauliX(wires=1)\n",
        "    qml.PauliX(wires=2)\n",
        "\n",
        "    ##################\n",
        "    # YOUR CODE HERE #\n",
        "    ##################\n",
        "\n",
        "    # IMPLEMENT A 3-CONTROLLED NOT WITH TOFFOLIS\n",
        "    qml.Toffoli(wires = [0, 1, 3])\n",
        "    qml.Toffoli(wires = [2, 3, 4])\n",
        "    qml.Toffoli(wires = [0, 1, 3])\n",
        "\n",
        "\n",
        "    return qml.state()\n",
        "\n",
        "\n",
        "print(four_qubit_mcx_only_tofs())\n"
      ]
    },
    {
      "cell_type": "markdown",
      "metadata": {
        "id": "L9b3pGL2Jigp"
      },
      "source": [
        "## 4. Multi-Qubit Gate Challenge\n"
      ]
    },
    {
      "cell_type": "markdown",
      "metadata": {
        "id": "k2fZ2wdVJk3r"
      },
      "source": [
        "### I.14.1 - The Bell states"
      ]
    },
    {
      "cell_type": "code",
      "execution_count": null,
      "metadata": {
        "colab": {
          "base_uri": "https://localhost:8080/"
        },
        "id": "fqk9JhmoJj5t",
        "outputId": "3642c3d6-cf4c-4dd5-a918-8e78fe0719f8"
      },
      "outputs": [
        {
          "name": "stdout",
          "output_type": "stream",
          "text": [
            "|ψ_+> = [0.70710678+0.j 0.        +0.j 0.        +0.j 0.70710678+0.j]\n",
            "|ψ_-> = [ 0.70710678+0.j  0.        +0.j  0.        +0.j -0.70710678+0.j]\n",
            "|ϕ_+> = [0.        +0.j 0.70710678+0.j 0.70710678+0.j 0.        +0.j]\n",
            "|ϕ_-> = [ 0.        +0.j  0.70710678+0.j -0.70710678+0.j  0.        +0.j]\n"
          ]
        }
      ],
      "source": [
        "dev = qml.device(\"default.qubit\", wires=2)\n",
        "\n",
        "# Starting from the state |00>, implement a PennyLane circuit\n",
        "# to construct each of the Bell basis states.\n",
        "\n",
        "\n",
        "@qml.qnode(dev)\n",
        "def prepare_psi_plus():\n",
        "    ##################\n",
        "    # YOUR CODE HERE #\n",
        "    ##################\n",
        "\n",
        "    # PREPARE (1/sqrt(2)) (|00> + |11>)\n",
        "    qml.Hadamard(wires = 0)\n",
        "    qml.CNOT(wires = [0, 1])\n",
        "\n",
        "    return qml.state()\n",
        "\n",
        "\n",
        "@qml.qnode(dev)\n",
        "def prepare_psi_minus():\n",
        "    ##################\n",
        "    # YOUR CODE HERE #\n",
        "    ##################\n",
        "\n",
        "    # PREPARE (1/sqrt(2)) (|00> - |11>)\n",
        "    qml.Hadamard(wires = 0)\n",
        "    qml.CNOT(wires = [0, 1])\n",
        "    qml.Z(wires = 0)\n",
        "\n",
        "    return qml.state()\n",
        "\n",
        "\n",
        "@qml.qnode(dev)\n",
        "def prepare_phi_plus():\n",
        "    ##################\n",
        "    # YOUR CODE HERE #\n",
        "    ##################\n",
        "\n",
        "    # PREPARE  (1/sqrt(2)) (|01> + |10>)\n",
        "    qml.Hadamard(wires = 0)\n",
        "    qml.CNOT(wires = [0, 1])\n",
        "    qml.X(wires = 1)\n",
        "\n",
        "    return qml.state()\n",
        "\n",
        "\n",
        "@qml.qnode(dev)\n",
        "def prepare_phi_minus():\n",
        "    ##################\n",
        "    # YOUR CODE HERE #\n",
        "    ##################\n",
        "\n",
        "    # PREPARE  (1/sqrt(2)) (|01> - |10>)\n",
        "    qml.Hadamard(wires = 0)\n",
        "    qml.CNOT(wires = [0, 1])\n",
        "    qml.X(wires = 1)\n",
        "    qml.Z(wires = 0)\n",
        "\n",
        "\n",
        "    return qml.state()\n",
        "\n",
        "\n",
        "psi_plus = prepare_psi_plus()\n",
        "psi_minus = prepare_psi_minus()\n",
        "phi_plus = prepare_phi_plus()\n",
        "phi_minus = prepare_phi_minus()\n",
        "\n",
        "# Uncomment to print results\n",
        "print(f\"|ψ_+> = {psi_plus}\")\n",
        "print(f\"|ψ_-> = {psi_minus}\")\n",
        "print(f\"|ϕ_+> = {phi_plus}\")\n",
        "print(f\"|ϕ_-> = {phi_minus}\")\n"
      ]
    },
    {
      "cell_type": "markdown",
      "metadata": {
        "id": "tiQXu8TJL7HZ"
      },
      "source": [
        "### I.14.2 - Quantum Multiplexer"
      ]
    },
    {
      "cell_type": "code",
      "execution_count": null,
      "metadata": {
        "colab": {
          "base_uri": "https://localhost:8080/"
        },
        "id": "1pwXIDwVK_1F",
        "outputId": "82c31f6e-d69c-4a77-fbf3-8068bec1b841"
      },
      "outputs": [
        {
          "name": "stdout",
          "output_type": "stream",
          "text": [
            "[0.+0.j         0.+0.j         0.+0.j         0.+0.j\n",
            " 0.+0.j         0.+0.j         0.+0.70710678j 0.+0.70710678j]\n"
          ]
        }
      ],
      "source": [
        "dev = qml.device(\"default.qubit\", wires=3)\n",
        "\n",
        "# State of first 2 qubits\n",
        "state = [1, 1]\n",
        "\n",
        "\n",
        "@qml.qnode(device=dev)\n",
        "def apply_control_sequence(state):\n",
        "    # Set up initial state of the first two qubits\n",
        "    if state[0] == 1:\n",
        "        qml.PauliX(wires=0)\n",
        "    if state[1] == 1:\n",
        "        qml.PauliX(wires=1)\n",
        "\n",
        "    # Set up initial state of the third qubit - use |->\n",
        "    # so we can see the effect on the output\n",
        "    qml.PauliX(wires=2)\n",
        "    qml.Hadamard(wires=2)\n",
        "\n",
        "    ##################\n",
        "    # YOUR CODE HERE #\n",
        "    ##################\n",
        "\n",
        "    # IMPLEMENT THE MULTIPLEXER\n",
        "    # IF STATE OF FIRST TWO QUBITS IS 01, APPLY X TO THIRD QUBIT\n",
        "    qml.MultiControlledX(control_wires=[0, 1], wires=2, control_values=\"01\")\n",
        "    # qml.X(wires = 0)\n",
        "    # qml.Toffoli(wires = [0, 1, 2])\n",
        "    # qml.X(wires = 0)\n",
        "\n",
        "\n",
        "\n",
        "    # IF STATE OF FIRST TWO QUBITS IS 10, APPLY Z TO THIRD QUBIT\n",
        "    # qml.MultiControlledZ(control_wires=[0, 1], wires=2, control_values=\"10\")\n",
        "    qml.X(wires = 1)\n",
        "    qml.Hadamard(wires = 2)\n",
        "    qml.Toffoli(wires = [0, 1, 2])\n",
        "    qml.Hadamard(wires = 2)\n",
        "    qml.X(wires = 1)\n",
        "\n",
        "\n",
        "\n",
        "    # IF STATE OF FIRST TWO QUBITS IS 11, APPLY Y TO THIRD QUBIT\n",
        "    # qml.MultiControlledY(control_wires=[0, 1], wires=2, control_values=\"11\")\n",
        "    qml.Hadamard(wires = 2)\n",
        "    qml.S(wires = 2)\n",
        "    qml.Toffoli(wires = [0, 1, 2])\n",
        "    qml.adjoint(qml.S)(wires = 2)\n",
        "    qml.Hadamard(wires = 2)\n",
        "\n",
        "\n",
        "    return qml.state()\n",
        "\n",
        "\n",
        "print(apply_control_sequence(state))\n"
      ]
    },
    {
      "cell_type": "markdown",
      "metadata": {
        "id": "CI6ZXoLDrhKU"
      },
      "source": [
        "**By -**\n",
        "\n",
        "Name: Asadullah Bin Rahman\n",
        "\n",
        "Email: [galib.cse.17020221@std.hstu.ac.bd](galib.cse.17020221@std.hstu.ac.bd)\n",
        "\n",
        "[Portfolio](https://asadullahgalib007.github.io/), [LinkedIn](https://www.linkedin.com/in/asadullah-bin-rahman/), [Google Scholar](https://scholar.google.com/citations?user=mhuUG2oAAAAJ&hl=en)"
      ]
    }
  ],
  "metadata": {
    "colab": {
      "provenance": []
    },
    "kernelspec": {
      "display_name": "Python 3",
      "name": "python3"
    },
    "language_info": {
      "name": "python"
    }
  },
  "nbformat": 4,
  "nbformat_minor": 0
}
